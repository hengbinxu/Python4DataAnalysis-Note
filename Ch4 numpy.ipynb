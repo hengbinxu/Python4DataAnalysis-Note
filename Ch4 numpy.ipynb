{
 "cells": [
  {
   "cell_type": "code",
   "execution_count": 1,
   "metadata": {},
   "outputs": [],
   "source": [
    "import numpy as np\n",
    "import pandas as pd\n",
    "import matplotlib.pyplot as plt"
   ]
  },
  {
   "cell_type": "code",
   "execution_count": 12,
   "metadata": {},
   "outputs": [
    {
     "data": {
      "text/plain": [
       "array([[[ 0,  1,  2,  3],\n",
       "        [ 4,  5,  6,  7],\n",
       "        [ 8,  9, 10, 11]],\n",
       "\n",
       "       [[12, 13, 14, 15],\n",
       "        [16, 17, 18, 19],\n",
       "        [20, 21, 22, 23]]])"
      ]
     },
     "execution_count": 12,
     "metadata": {},
     "output_type": "execute_result"
    }
   ],
   "source": [
    "arr = np.arange(24).reshape((2, 3, 4))\n",
    "arr"
   ]
  },
  {
   "cell_type": "code",
   "execution_count": 22,
   "metadata": {},
   "outputs": [
    {
     "data": {
      "text/plain": [
       "array([[[ 0,  4,  8],\n",
       "        [12, 16, 20]],\n",
       "\n",
       "       [[ 1,  5,  9],\n",
       "        [13, 17, 21]],\n",
       "\n",
       "       [[ 2,  6, 10],\n",
       "        [14, 18, 22]],\n",
       "\n",
       "       [[ 3,  7, 11],\n",
       "        [15, 19, 23]]])"
      ]
     },
     "execution_count": 22,
     "metadata": {},
     "output_type": "execute_result"
    }
   ],
   "source": [
    "arr.transpose([2, 0, 1]) # shape = (4, 2, 3)"
   ]
  },
  {
   "cell_type": "code",
   "execution_count": 46,
   "metadata": {},
   "outputs": [
    {
     "name": "stdout",
     "output_type": "stream",
     "text": [
      "array shape =>  (2, 2, 3)\n",
      "[[[ 1  2  3]\n",
      "  [ 4  5  6]]\n",
      "\n",
      " [[ 7  8  9]\n",
      "  [10 11 12]]]\n"
     ]
    },
    {
     "data": {
      "text/plain": [
       "array([[[ 1,  4],\n",
       "        [ 2,  5],\n",
       "        [ 3,  6]],\n",
       "\n",
       "       [[ 7, 10],\n",
       "        [ 8, 11],\n",
       "        [ 9, 12]]])"
      ]
     },
     "execution_count": 46,
     "metadata": {},
     "output_type": "execute_result"
    }
   ],
   "source": [
    "arr3d = np.array([[[1, 2, 3], [4, 5, 6]], [[7, 8, 9], [10, 11, 12]]])\n",
    "print(\"array shape => \", arr3d.shape)\n",
    "print(arr3d)\n",
    "\n",
    "arr3d.swapaxes(1, 2) # change axis1 and axis2"
   ]
  },
  {
   "cell_type": "code",
   "execution_count": 39,
   "metadata": {},
   "outputs": [
    {
     "name": "stdout",
     "output_type": "stream",
     "text": [
      "[-1.0856306   0.99734545  0.2829785  -1.50629471 -0.57860025  1.65143654\n",
      " -2.42667924 -0.42891263  1.26593626 -0.8667404 ]\n",
      "[1.0856306  0.99734545 0.2829785  1.50629471 0.57860025 1.65143654\n",
      " 2.42667924 0.42891263 1.26593626 0.8667404 ]\n"
     ]
    }
   ],
   "source": [
    "np.random.seed(123)\n",
    "print(np.random.randn(10))\n",
    "np.random.seed(123) \n",
    "print(np.fabs(np.random.randn(10)))"
   ]
  },
  {
   "cell_type": "code",
   "execution_count": 54,
   "metadata": {},
   "outputs": [
    {
     "name": "stdout",
     "output_type": "stream",
     "text": [
      "[[0 1 2]\n",
      " [3 4 4]\n",
      " [6 7 8]]\n",
      "-------------------------cumsum method-------------------------\n",
      "[[ 0  1  2]\n",
      " [ 3  5  6]\n",
      " [ 9 12 14]]\n",
      "-------------------------cumprod method-------------------------\n",
      "[[ 0  1  2]\n",
      " [ 0  4  8]\n",
      " [ 0 28 64]]\n"
     ]
    }
   ],
   "source": [
    "arr = np.array([[0, 1, 2], [3, 4, 4], [6, 7, 8]])\n",
    "print(arr)\n",
    "print(\"-\"*25 + 'cumsum method'+ \"-\"*25)\n",
    "print(arr.cumsum(axis = 0))\n",
    "print(\"-\"*25 + 'cumprod method'+ \"-\"*25)\n",
    "print(arr.cumprod(axis = 0))"
   ]
  },
  {
   "cell_type": "code",
   "execution_count": 69,
   "metadata": {},
   "outputs": [
    {
     "data": {
      "text/plain": [
       "array([[-2.42667924, -0.67888615, -0.44398196],\n",
       "       [-1.50629471, -0.638902  , -0.09470897],\n",
       "       [-1.0856306 , -0.57860025,  0.2829785 ],\n",
       "       [-0.8667404 , -0.42891263,  1.26593626],\n",
       "       [ 1.49138963,  0.99734545,  1.65143654]])"
      ]
     },
     "execution_count": 69,
     "metadata": {},
     "output_type": "execute_result"
    }
   ],
   "source": [
    "np.random.seed(123)\n",
    "arr = np.random.randn(5, 3)\n",
    "arr.sort(axis = 0)"
   ]
  },
  {
   "cell_type": "markdown",
   "metadata": {},
   "source": [
    "### np.where"
   ]
  },
  {
   "cell_type": "code",
   "execution_count": 73,
   "metadata": {},
   "outputs": [],
   "source": [
    "xarr = np.array([1.1, 1.2, 1.3, 1.4, 1.5])\n",
    "yarr = np.array([2.1, 2.2, 2.3, 2.4, 2.5])\n",
    "cond = np.array([True, False, True, True, False])"
   ]
  },
  {
   "cell_type": "code",
   "execution_count": 76,
   "metadata": {},
   "outputs": [
    {
     "data": {
      "text/plain": [
       "[1.1, 2.2, 1.3, 1.4, 2.5]"
      ]
     },
     "execution_count": 76,
     "metadata": {},
     "output_type": "execute_result"
    }
   ],
   "source": [
    "result = [(x if c else y) for x, y, c in zip(xarr, yarr, cond)]\n",
    "result"
   ]
  },
  {
   "cell_type": "code",
   "execution_count": 81,
   "metadata": {},
   "outputs": [
    {
     "data": {
      "text/plain": [
       "array([[-2, -2, -2, -2],\n",
       "       [-2, -2, -2, -2],\n",
       "       [-2, -2, -2, -2],\n",
       "       [-2, -2, -2, -2]])"
      ]
     },
     "execution_count": 81,
     "metadata": {},
     "output_type": "execute_result"
    }
   ],
   "source": [
    "arr = np.random.randn(4, 4)\n",
    "np.where(arr > 2, 2, -2)"
   ]
  },
  {
   "cell_type": "code",
   "execution_count": 88,
   "metadata": {},
   "outputs": [
    {
     "name": "stdout",
     "output_type": "stream",
     "text": [
      "any method =>  True\n",
      "all method =>  False\n"
     ]
    }
   ],
   "source": [
    "bools = np.array([False, False, True, False])\n",
    "print(\"any method => \", bools.any()) # whether one or more values in an array is True\n",
    "print(\"all method => \", bools.all())"
   ]
  },
  {
   "cell_type": "code",
   "execution_count": 91,
   "metadata": {},
   "outputs": [
    {
     "data": {
      "text/plain": [
       "False"
      ]
     },
     "execution_count": 91,
     "metadata": {},
     "output_type": "execute_result"
    }
   ],
   "source": [
    "bools = np.array([False, False])\n",
    "bools.any()"
   ]
  },
  {
   "cell_type": "code",
   "execution_count": 93,
   "metadata": {},
   "outputs": [
    {
     "data": {
      "text/plain": [
       "array([ True, False, False,  True,  True, False,  True])"
      ]
     },
     "execution_count": 93,
     "metadata": {},
     "output_type": "execute_result"
    }
   ],
   "source": [
    "values = np.array([6, 0, 0, 3, 2, 5, 6])\n",
    "np.in1d(ar1 = values, ar2 = [2, 3, 6])"
   ]
  },
  {
   "cell_type": "markdown",
   "metadata": {},
   "source": [
    "### Set operation"
   ]
  },
  {
   "cell_type": "code",
   "execution_count": 102,
   "metadata": {},
   "outputs": [
    {
     "name": "stdout",
     "output_type": "stream",
     "text": [
      "-----Intersection-----\n",
      "[2 3 4]\n",
      "-----Union-----\n",
      "[2 3 4 5 6 7]\n",
      "-----difference-----\n",
      "[6]\n",
      "-----symmetric difference-----\n",
      "[5 6 7]\n"
     ]
    }
   ],
   "source": [
    "value1 = np.array([2, 3, 6, 4, 3])\n",
    "value2 = np.array([2, 5, 7, 4, 3])\n",
    "\n",
    "print(\"-\"*5 + \"Intersection\" + '-'*5)\n",
    "print(np.intersect1d(ar1 = value1, ar2 = value2))\n",
    "\n",
    "print(\"-\"*5 + \"Union\" + '-'*5)\n",
    "print(np.union1d(ar1 = value1, ar2 = value2))\n",
    "\n",
    "# set difference, elements in x that aren't in y.\n",
    "print(\"-\"*5 + \"difference\" + '-'*5)\n",
    "print(np.setdiff1d(ar1 = value1, ar2 = value2))\n",
    "\n",
    "print(\"-\"*5 + \"symmetric difference\" + '-'*5)\n",
    "print(np.setxor1d(ar1 = value1, ar2 = value2))"
   ]
  },
  {
   "cell_type": "markdown",
   "metadata": {},
   "source": [
    "### Random Number Generation"
   ]
  },
  {
   "cell_type": "code",
   "execution_count": 106,
   "metadata": {},
   "outputs": [
    {
     "data": {
      "text/plain": [
       "array([[ 1.03111446, -1.08456791, -1.36347154,  0.37940061],\n",
       "       [-0.37917643,  0.64205469, -1.97788793,  0.71226464],\n",
       "       [ 2.59830393, -0.02462598,  0.03414213,  0.17954948],\n",
       "       [-1.86197571,  0.42614664, -1.60540974, -0.4276796 ]])"
      ]
     },
     "execution_count": 106,
     "metadata": {},
     "output_type": "execute_result"
    }
   ],
   "source": [
    "samples = np.random.normal(loc = 0, scale = 1, size = (4, 4))\n",
    "samples"
   ]
  }
 ],
 "metadata": {
  "kernelspec": {
   "display_name": "Python 3",
   "language": "python",
   "name": "python3"
  },
  "language_info": {
   "codemirror_mode": {
    "name": "ipython",
    "version": 3
   },
   "file_extension": ".py",
   "mimetype": "text/x-python",
   "name": "python",
   "nbconvert_exporter": "python",
   "pygments_lexer": "ipython3",
   "version": "3.6.4"
  },
  "toc": {
   "base_numbering": 1,
   "nav_menu": {},
   "number_sections": false,
   "sideBar": true,
   "skip_h1_title": false,
   "title_cell": "Table of Contents",
   "title_sidebar": "Contents",
   "toc_cell": false,
   "toc_position": {},
   "toc_section_display": true,
   "toc_window_display": false
  },
  "varInspector": {
   "cols": {
    "lenName": 16,
    "lenType": 16,
    "lenVar": 40
   },
   "kernels_config": {
    "python": {
     "delete_cmd_postfix": "",
     "delete_cmd_prefix": "del ",
     "library": "var_list.py",
     "varRefreshCmd": "print(var_dic_list())"
    },
    "r": {
     "delete_cmd_postfix": ") ",
     "delete_cmd_prefix": "rm(",
     "library": "var_list.r",
     "varRefreshCmd": "cat(var_dic_list()) "
    }
   },
   "types_to_exclude": [
    "module",
    "function",
    "builtin_function_or_method",
    "instance",
    "_Feature"
   ],
   "window_display": false
  }
 },
 "nbformat": 4,
 "nbformat_minor": 2
}
