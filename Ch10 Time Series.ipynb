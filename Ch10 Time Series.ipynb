{
 "cells": [
  {
   "cell_type": "markdown",
   "metadata": {},
   "source": [
    "### Date and Time data Types and Tools\n",
    "\n",
    "The Python standard library includes data types for date and time data, as well as calendar-related functionality.\n",
    "\n",
    "The `datetime.time`, and `calendar` modules are the main places to start."
   ]
  },
  {
   "cell_type": "code",
   "execution_count": 54,
   "metadata": {},
   "outputs": [],
   "source": [
    "from datetime import datetime\n",
    "import pandas as pd\n",
    "import numpy as np\n",
    "import matplotlib.pyplot as plt "
   ]
  },
  {
   "cell_type": "code",
   "execution_count": 2,
   "metadata": {},
   "outputs": [
    {
     "data": {
      "text/plain": [
       "datetime.datetime(2018, 7, 24, 14, 10, 57, 408383)"
      ]
     },
     "execution_count": 2,
     "metadata": {},
     "output_type": "execute_result"
    }
   ],
   "source": [
    "now = datetime.now()\n",
    "now"
   ]
  },
  {
   "cell_type": "code",
   "execution_count": 3,
   "metadata": {},
   "outputs": [
    {
     "name": "stdout",
     "output_type": "stream",
     "text": [
      "2018 7 24\n"
     ]
    }
   ],
   "source": [
    "print(now.year, now.month, now.day)"
   ]
  },
  {
   "cell_type": "markdown",
   "metadata": {},
   "source": [
    "`datetime` store both the date and time down to the microsecond.\n",
    "\n",
    "`datetime.timedelta` represents the temproal different two datetime objects. "
   ]
  },
  {
   "cell_type": "code",
   "execution_count": 4,
   "metadata": {},
   "outputs": [
    {
     "data": {
      "text/plain": [
       "datetime.timedelta(926, 56700)"
      ]
     },
     "execution_count": 4,
     "metadata": {},
     "output_type": "execute_result"
    }
   ],
   "source": [
    "delta = datetime(2011, 1, 7) - datetime(2008, 6, 24, 8, 15)\n",
    "delta"
   ]
  },
  {
   "cell_type": "code",
   "execution_count": 5,
   "metadata": {},
   "outputs": [
    {
     "name": "stdout",
     "output_type": "stream",
     "text": [
      "different day: 926, different second: 56700\n"
     ]
    }
   ],
   "source": [
    "print(\"different day: %s, different second: %s\" % (delta.days, delta.seconds))"
   ]
  },
  {
   "cell_type": "markdown",
   "metadata": {},
   "source": [
    "### `timedelta`\n",
    "\n",
    "You can add(or subtract) a `timedelta` or multiple thereof to a `datetime` object to yield a new shifted object.\n",
    "\n",
    "### Types in datetime module\n",
    "\n",
    "Types         | Description                                                                                | \n",
    "--------------|:------------------------------------------------------------------------------------------:|\n",
    "**`date`**        | Store calendar date(year, month, day) using the Gregorian calendar                         |\n",
    "**`time`**        | Store time of days as hours, minutesm and microseconds                                     |\n",
    "**`datetime`**    | Stroes  both date and time                                                                 |\n",
    "**`timedelta`**   | Represents the difference between two datetime values(as days, secondsm and microsenconds) | "
   ]
  },
  {
   "cell_type": "code",
   "execution_count": 6,
   "metadata": {},
   "outputs": [],
   "source": [
    "from datetime import timedelta"
   ]
  },
  {
   "cell_type": "code",
   "execution_count": 9,
   "metadata": {},
   "outputs": [
    {
     "data": {
      "text/plain": [
       "datetime.datetime(2011, 1, 10, 3, 3, 12)"
      ]
     },
     "execution_count": 9,
     "metadata": {},
     "output_type": "execute_result"
    }
   ],
   "source": [
    "start = datetime(2011, 1, 7)\n",
    "start + timedelta(days = 3, hours = 3, minutes = 3, seconds = 12)"
   ]
  },
  {
   "cell_type": "code",
   "execution_count": 10,
   "metadata": {},
   "outputs": [
    {
     "data": {
      "text/plain": [
       "datetime.datetime(2010, 12, 14, 0, 0)"
      ]
     },
     "execution_count": 10,
     "metadata": {},
     "output_type": "execute_result"
    }
   ],
   "source": [
    "start - 2 * timedelta(days = 12)"
   ]
  },
  {
   "cell_type": "markdown",
   "metadata": {},
   "source": [
    "### Convert between string and  datetime\n",
    "\n",
    "`datetime` objects and pandas `Timestamp` objects, which I'll introduce later, can be ***formatted as string using `str` or the `strftime` method***, passing a format specification.\n",
    "\n",
    "`strftime`(string format output time)\n",
    "\n",
    "***These same format codes can be used to convert strings to dates using `datetime.strptime`(new datetime parsed from a string).***"
   ]
  },
  {
   "cell_type": "code",
   "execution_count": 11,
   "metadata": {},
   "outputs": [
    {
     "data": {
      "text/plain": [
       "datetime.datetime(2013, 1, 3, 0, 0)"
      ]
     },
     "execution_count": 11,
     "metadata": {},
     "output_type": "execute_result"
    }
   ],
   "source": [
    "stamp = datetime(2013, 1, 3)\n",
    "stamp"
   ]
  },
  {
   "cell_type": "code",
   "execution_count": 12,
   "metadata": {},
   "outputs": [
    {
     "data": {
      "text/plain": [
       "'2013-01-03'"
      ]
     },
     "execution_count": 12,
     "metadata": {},
     "output_type": "execute_result"
    }
   ],
   "source": [
    "stamp.strftime(\"%Y-%m-%d\")"
   ]
  },
  {
   "cell_type": "code",
   "execution_count": 13,
   "metadata": {},
   "outputs": [
    {
     "data": {
      "text/plain": [
       "datetime.datetime(2011, 1, 3, 0, 0)"
      ]
     },
     "execution_count": 13,
     "metadata": {},
     "output_type": "execute_result"
    }
   ],
   "source": [
    "value = '2011-01-03'\n",
    "datetime.strptime(value, \"%Y-%m-%d\")"
   ]
  },
  {
   "cell_type": "code",
   "execution_count": 14,
   "metadata": {},
   "outputs": [
    {
     "data": {
      "text/plain": [
       "[datetime.datetime(2011, 7, 6, 0, 0), datetime.datetime(2011, 8, 6, 0, 0)]"
      ]
     },
     "execution_count": 14,
     "metadata": {},
     "output_type": "execute_result"
    }
   ],
   "source": [
    "datestr = [\"7/6/2011\", '8/6/2011']\n",
    "[datetime.strptime(x, \"%m/%d/%Y\") for x in datestr]"
   ]
  },
  {
   "cell_type": "markdown",
   "metadata": {},
   "source": [
    "***`datetime.strptime` is the best way to parse a date with a known format.***\n",
    "\n",
    "However, it can be a bit annoying to have to write a format spec each time, especially date formats.\n",
    "\n",
    "***You can use the `parser.parse` method in the third party `dateutil` package.***\n",
    "\n",
    "***`dateutil` is capable of parsing almost an human-intelligible date represention.***"
   ]
  },
  {
   "cell_type": "code",
   "execution_count": 2,
   "metadata": {},
   "outputs": [],
   "source": [
    "from dateutil.parser import parse"
   ]
  },
  {
   "cell_type": "code",
   "execution_count": 17,
   "metadata": {},
   "outputs": [
    {
     "data": {
      "text/plain": [
       "datetime.datetime(2011, 1, 3, 0, 0)"
      ]
     },
     "execution_count": 17,
     "metadata": {},
     "output_type": "execute_result"
    }
   ],
   "source": [
    "parse(\"2011-01-03\")"
   ]
  },
  {
   "cell_type": "code",
   "execution_count": 18,
   "metadata": {},
   "outputs": [
    {
     "data": {
      "text/plain": [
       "datetime.datetime(1997, 1, 31, 22, 45)"
      ]
     },
     "execution_count": 18,
     "metadata": {},
     "output_type": "execute_result"
    }
   ],
   "source": [
    "parse('Jan 31, 1997 10:45 PM')"
   ]
  },
  {
   "cell_type": "markdown",
   "metadata": {},
   "source": [
    "In international locales, day appearing before month is very common, so you can pass `dayfirst = True` to indicate this."
   ]
  },
  {
   "cell_type": "code",
   "execution_count": 19,
   "metadata": {},
   "outputs": [
    {
     "data": {
      "text/plain": [
       "datetime.datetime(2011, 12, 6, 0, 0)"
      ]
     },
     "execution_count": 19,
     "metadata": {},
     "output_type": "execute_result"
    }
   ],
   "source": [
    "parse(\"6/12/2011\", dayfirst = True)"
   ]
  },
  {
   "cell_type": "markdown",
   "metadata": {},
   "source": [
    "pandas is generally oriented toward working with arrays of dates, whether used as an axis index or a column in a DataFrame.\n",
    "\n",
    "***The `to_datetime` method parses many different kinds of date representayions.***"
   ]
  },
  {
   "cell_type": "code",
   "execution_count": 3,
   "metadata": {},
   "outputs": [],
   "source": [
    "import pandas as pd"
   ]
  },
  {
   "cell_type": "code",
   "execution_count": 31,
   "metadata": {},
   "outputs": [
    {
     "data": {
      "text/plain": [
       "DatetimeIndex(['2011-07-06', '2011-08-06'], dtype='datetime64[ns]', freq=None)"
      ]
     },
     "execution_count": 31,
     "metadata": {},
     "output_type": "execute_result"
    }
   ],
   "source": [
    "datestr = [\"7/6/2011\", '8/6/2011']\n",
    "pd.to_datetime(datestr)"
   ]
  },
  {
   "cell_type": "markdown",
   "metadata": {},
   "source": [
    "***`dateutil.parser.parse` method get `datetime` object, then use `strftime` method output specified format.****"
   ]
  },
  {
   "cell_type": "code",
   "execution_count": 67,
   "metadata": {},
   "outputs": [
    {
     "data": {
      "text/plain": [
       "['2011-07-06', '2011-08-06']"
      ]
     },
     "execution_count": 67,
     "metadata": {},
     "output_type": "execute_result"
    }
   ],
   "source": [
    "[parse(date).strftime(\"%Y-%m-%d\") for date in datestr]"
   ]
  },
  {
   "cell_type": "markdown",
   "metadata": {},
   "source": [
    "***Using `parse` method can parse string of the diffent datetime format.***"
   ]
  },
  {
   "cell_type": "code",
   "execution_count": 32,
   "metadata": {},
   "outputs": [],
   "source": [
    "temp = [\"12/6/2016\", \"2016-08-06\"]"
   ]
  },
  {
   "cell_type": "code",
   "execution_count": 33,
   "metadata": {},
   "outputs": [
    {
     "data": {
      "text/plain": [
       "['2016-12-06', '2016-08-06']"
      ]
     },
     "execution_count": 33,
     "metadata": {},
     "output_type": "execute_result"
    }
   ],
   "source": [
    "[parse(date).strftime(\"%Y-%m-%d\") for date in temp]"
   ]
  },
  {
   "cell_type": "markdown",
   "metadata": {},
   "source": [
    "***`NaT`*** (Not a Time) is pandas's NA value for timestamp data."
   ]
  },
  {
   "cell_type": "code",
   "execution_count": 34,
   "metadata": {},
   "outputs": [
    {
     "data": {
      "text/plain": [
       "DatetimeIndex(['2011-07-06', '2011-08-06', 'NaT'], dtype='datetime64[ns]', freq=None)"
      ]
     },
     "execution_count": 34,
     "metadata": {},
     "output_type": "execute_result"
    }
   ],
   "source": [
    "idx = pd.to_datetime(datestr + [None])\n",
    "idx"
   ]
  },
  {
   "cell_type": "code",
   "execution_count": 35,
   "metadata": {},
   "outputs": [
    {
     "name": "stdout",
     "output_type": "stream",
     "text": [
      "NaT\n",
      "[False False  True]\n"
     ]
    }
   ],
   "source": [
    "print(idx[2]) \n",
    "print(pd.isnull(idx))"
   ]
  },
  {
   "cell_type": "markdown",
   "metadata": {},
   "source": [
    "### Time Series Basics\n",
    "\n",
    "The most basic kind of time series object in pandas is a Series indexed by timestamps, which is often represented external to pandas as Python strings or `datetime` object."
   ]
  },
  {
   "cell_type": "code",
   "execution_count": 21,
   "metadata": {},
   "outputs": [],
   "source": [
    "dates = [datetime(2011, 1, 2), datetime(2011, 1, 5), datetime(2011, 1, 7),\n",
    "         datetime(2011, 1, 8), datetime(2011, 1, 10), datetime(2011, 1, 12)]"
   ]
  },
  {
   "cell_type": "code",
   "execution_count": 30,
   "metadata": {},
   "outputs": [
    {
     "data": {
      "text/plain": [
       "2011-01-08   -0.491852\n",
       "2011-01-10    0.755731\n",
       "2011-01-12   -0.269942\n",
       "dtype: float64"
      ]
     },
     "execution_count": 30,
     "metadata": {},
     "output_type": "execute_result"
    }
   ],
   "source": [
    "ts = pd.Series(data = np.random.randn(6), index = dates)\n",
    "ts[-3:]"
   ]
  },
  {
   "cell_type": "code",
   "execution_count": 32,
   "metadata": {},
   "outputs": [
    {
     "data": {
      "text/plain": [
       "DatetimeIndex(['2011-01-02', '2011-01-05', '2011-01-07', '2011-01-08',\n",
       "               '2011-01-10', '2011-01-12'],\n",
       "              dtype='datetime64[ns]', freq=None)"
      ]
     },
     "execution_count": 32,
     "metadata": {},
     "output_type": "execute_result"
    }
   ],
   "source": [
    "ts.index"
   ]
  },
  {
   "cell_type": "markdown",
   "metadata": {},
   "source": [
    "***Like other Series, arithmetic operations between differently-indexed time series automatically align on the dates.***\n",
    "\n",
    "A timestamp can be substituted anywhere you would use a `datetime` object.\n",
    "\n",
    "***Additionally, it can store frequency information(if any) and understands how time zone conversions and other kinds of maniplations.***"
   ]
  },
  {
   "cell_type": "code",
   "execution_count": 37,
   "metadata": {},
   "outputs": [
    {
     "name": "stdout",
     "output_type": "stream",
     "text": [
      "2011-01-02    1.926968\n",
      "2011-01-05    0.917687\n",
      "2011-01-07   -1.577411\n",
      "2011-01-08   -0.491852\n",
      "2011-01-10    0.755731\n",
      "2011-01-12   -0.269942\n",
      "dtype: float64\n"
     ]
    },
    {
     "data": {
      "text/plain": [
       "2011-01-02    3.853935\n",
       "2011-01-05         NaN\n",
       "2011-01-07   -3.154821\n",
       "2011-01-08         NaN\n",
       "2011-01-10    1.511462\n",
       "2011-01-12         NaN\n",
       "dtype: float64"
      ]
     },
     "execution_count": 37,
     "metadata": {},
     "output_type": "execute_result"
    }
   ],
   "source": [
    "print(ts)\n",
    "ts + ts[::2]"
   ]
  },
  {
   "cell_type": "code",
   "execution_count": 44,
   "metadata": {},
   "outputs": [
    {
     "data": {
      "text/plain": [
       "Timestamp('2011-01-02 00:00:00')"
      ]
     },
     "execution_count": 44,
     "metadata": {},
     "output_type": "execute_result"
    }
   ],
   "source": [
    "stamp = ts.index[0]\n",
    "stamp"
   ]
  },
  {
   "cell_type": "markdown",
   "metadata": {},
   "source": [
    "### Indexing, Selection, Subseting\n",
    "\n",
    "***As a convenience, you can also pass a string that is interpretable as a date.***\n",
    "\n",
    "For longer time series, a year or only a year and month can be passed to easily select of data."
   ]
  },
  {
   "cell_type": "code",
   "execution_count": 45,
   "metadata": {},
   "outputs": [],
   "source": [
    "stamp = ts.index[2]\n",
    "ts[stamp]"
   ]
  },
  {
   "cell_type": "code",
   "execution_count": 49,
   "metadata": {},
   "outputs": [
    {
     "name": "stdout",
     "output_type": "stream",
     "text": [
      "0.7557308282475597\n",
      "0.7557308282475597\n"
     ]
    }
   ],
   "source": [
    "print(ts['1/10/2011'])\n",
    "print(ts['20110110'])"
   ]
  },
  {
   "cell_type": "code",
   "execution_count": 52,
   "metadata": {},
   "outputs": [],
   "source": [
    "longer_ts = pd.Series(data = np.random.randn(1000), \n",
    "                      index = pd.date_range(start = '1/1/2000', periods = 1000))"
   ]
  },
  {
   "cell_type": "code",
   "execution_count": 55,
   "metadata": {},
   "outputs": [
    {
     "name": "stdout",
     "output_type": "stream",
     "text": [
      "1000\n"
     ]
    },
    {
     "data": {
      "text/plain": [
       "2002-09-22    1.252656\n",
       "2002-09-23   -1.064926\n",
       "2002-09-24   -0.721539\n",
       "2002-09-25   -0.185273\n",
       "2002-09-26    1.078833\n",
       "Freq: D, dtype: float64"
      ]
     },
     "execution_count": 55,
     "metadata": {},
     "output_type": "execute_result"
    }
   ],
   "source": [
    "print(len(longer_ts))\n",
    "longer_ts[-5:]"
   ]
  },
  {
   "cell_type": "code",
   "execution_count": 64,
   "metadata": {},
   "outputs": [
    {
     "name": "stdout",
     "output_type": "stream",
     "text": [
      "Select 2001 : 2001-12-29    0.241518\n",
      "2001-12-30   -0.598224\n",
      "2001-12-31   -1.191834\n",
      "Freq: D, dtype: float64\n",
      "--------------------------------------------------\n",
      "Select 2001-5: 2001-05-29    1.306188\n",
      "2001-05-30   -0.326928\n",
      "2001-05-31    0.496326\n",
      "Freq: D, dtype: float64\n"
     ]
    }
   ],
   "source": [
    "# You can just pass year or month to slice with data.\n",
    "print('Select 2001 :', longer_ts['2001'][-3:])\n",
    "print(\"-\"*50)\n",
    "print('Select 2001-5:', longer_ts['2001-05'][-3:])"
   ]
  },
  {
   "cell_type": "markdown",
   "metadata": {},
   "source": [
    "***Slice with dataset works just like a regular Series.***"
   ]
  },
  {
   "cell_type": "code",
   "execution_count": 79,
   "metadata": {},
   "outputs": [
    {
     "data": {
      "text/plain": [
       "2000-02-23   -1.240447\n",
       "2000-02-24    2.020742\n",
       "2000-02-25   -0.809792\n",
       "2000-02-26   -0.263999\n",
       "2000-02-27    1.139657\n",
       "Freq: D, dtype: float64"
      ]
     },
     "execution_count": 79,
     "metadata": {},
     "output_type": "execute_result"
    }
   ],
   "source": [
    "longer_ts[(longer_ts.index >= datetime(2000, 2, 1)) & (longer_ts.index <= datetime(2000, 2, 27))][-5:]"
   ]
  },
  {
   "cell_type": "code",
   "execution_count": 83,
   "metadata": {},
   "outputs": [
    {
     "data": {
      "text/plain": [
       "2000-01-12    0.651772\n",
       "2000-01-13   -2.211338\n",
       "2000-01-14   -1.038107\n",
       "Freq: D, dtype: float64"
      ]
     },
     "execution_count": 83,
     "metadata": {},
     "output_type": "execute_result"
    }
   ],
   "source": [
    "longer_ts[longer_ts.index < '2000-01-15'][-3:]"
   ]
  },
  {
   "cell_type": "code",
   "execution_count": 85,
   "metadata": {},
   "outputs": [
    {
     "data": {
      "text/plain": [
       "2011-01-07   -1.577411\n",
       "2011-01-08   -0.491852\n",
       "2011-01-10    0.755731\n",
       "dtype: float64"
      ]
     },
     "execution_count": 85,
     "metadata": {},
     "output_type": "execute_result"
    }
   ],
   "source": [
    "ts['1/6/2011':'1/11/2011']"
   ]
  },
  {
   "cell_type": "markdown",
   "metadata": {},
   "source": [
    "As before you can pass either a string data, datetime, ot Timestamp.\n",
    "\n",
    "Remember that slicing this manner prodeces views on the source time series just like slicing NumPy array.\n",
    "\n",
    "There is an equivalient instance method `truncate` which slices a TimeSeries between two dates."
   ]
  },
  {
   "cell_type": "code",
   "execution_count": 87,
   "metadata": {},
   "outputs": [
    {
     "data": {
      "text/plain": [
       "2011-01-02    1.926968\n",
       "2011-01-05    0.917687\n",
       "2011-01-07   -1.577411\n",
       "2011-01-08   -0.491852\n",
       "dtype: float64"
      ]
     },
     "execution_count": 87,
     "metadata": {},
     "output_type": "execute_result"
    }
   ],
   "source": [
    "ts.truncate(after = '2011-01-09')"
   ]
  },
  {
   "cell_type": "code",
   "execution_count": 100,
   "metadata": {},
   "outputs": [],
   "source": [
    "dates = pd.date_range(start = \"1/1/2000\", periods = 1000, freq = \"W-WED\")\n",
    "long_df = pd.DataFrame(data = np.random.randn(1000, 4), \n",
    "                       columns=['Colorado', 'Texas', 'New York', 'Ohio'],\n",
    "                       index = dates)"
   ]
  },
  {
   "cell_type": "code",
   "execution_count": 104,
   "metadata": {},
   "outputs": [
    {
     "data": {
      "text/html": [
       "<div>\n",
       "<style scoped>\n",
       "    .dataframe tbody tr th:only-of-type {\n",
       "        vertical-align: middle;\n",
       "    }\n",
       "\n",
       "    .dataframe tbody tr th {\n",
       "        vertical-align: top;\n",
       "    }\n",
       "\n",
       "    .dataframe thead th {\n",
       "        text-align: right;\n",
       "    }\n",
       "</style>\n",
       "<table border=\"1\" class=\"dataframe\">\n",
       "  <thead>\n",
       "    <tr style=\"text-align: right;\">\n",
       "      <th></th>\n",
       "      <th>Colorado</th>\n",
       "      <th>Texas</th>\n",
       "      <th>New York</th>\n",
       "      <th>Ohio</th>\n",
       "    </tr>\n",
       "  </thead>\n",
       "  <tbody>\n",
       "    <tr>\n",
       "      <th>2001-05-02</th>\n",
       "      <td>-0.764880</td>\n",
       "      <td>1.269698</td>\n",
       "      <td>-0.480698</td>\n",
       "      <td>0.219507</td>\n",
       "    </tr>\n",
       "    <tr>\n",
       "      <th>2001-05-09</th>\n",
       "      <td>1.712601</td>\n",
       "      <td>0.434580</td>\n",
       "      <td>1.346762</td>\n",
       "      <td>0.422147</td>\n",
       "    </tr>\n",
       "    <tr>\n",
       "      <th>2001-05-16</th>\n",
       "      <td>-0.031334</td>\n",
       "      <td>-0.630770</td>\n",
       "      <td>-1.098144</td>\n",
       "      <td>0.985377</td>\n",
       "    </tr>\n",
       "    <tr>\n",
       "      <th>2001-05-23</th>\n",
       "      <td>1.280701</td>\n",
       "      <td>-0.904474</td>\n",
       "      <td>-1.352312</td>\n",
       "      <td>-1.289253</td>\n",
       "    </tr>\n",
       "    <tr>\n",
       "      <th>2001-05-30</th>\n",
       "      <td>-0.710766</td>\n",
       "      <td>-0.377964</td>\n",
       "      <td>-0.739108</td>\n",
       "      <td>-1.221031</td>\n",
       "    </tr>\n",
       "  </tbody>\n",
       "</table>\n",
       "</div>"
      ],
      "text/plain": [
       "            Colorado     Texas  New York      Ohio\n",
       "2001-05-02 -0.764880  1.269698 -0.480698  0.219507\n",
       "2001-05-09  1.712601  0.434580  1.346762  0.422147\n",
       "2001-05-16 -0.031334 -0.630770 -1.098144  0.985377\n",
       "2001-05-23  1.280701 -0.904474 -1.352312 -1.289253\n",
       "2001-05-30 -0.710766 -0.377964 -0.739108 -1.221031"
      ]
     },
     "execution_count": 104,
     "metadata": {},
     "output_type": "execute_result"
    }
   ],
   "source": [
    "long_df['5-2001']"
   ]
  },
  {
   "cell_type": "markdown",
   "metadata": {},
   "source": [
    "### Time Series with Duplicat Indices\n",
    "\n",
    "In some applications, there may be multiple data observations falling on a particular timestamp.\n",
    "\n",
    "We can tell that the index isn't unique by checking its `is_unique` property."
   ]
  },
  {
   "cell_type": "code",
   "execution_count": 105,
   "metadata": {},
   "outputs": [],
   "source": [
    "dates = pd.DatetimeIndex(data = ['1/1/2000', '1/2/2000', '1/2/2000', \n",
    "                                 '1/2/2000', '1/3/2000'])"
   ]
  },
  {
   "cell_type": "code",
   "execution_count": 106,
   "metadata": {},
   "outputs": [
    {
     "data": {
      "text/plain": [
       "2000-01-01    0\n",
       "2000-01-02    1\n",
       "2000-01-02    2\n",
       "2000-01-02    3\n",
       "2000-01-03    4\n",
       "dtype: int32"
      ]
     },
     "execution_count": 106,
     "metadata": {},
     "output_type": "execute_result"
    }
   ],
   "source": [
    "dup_ts = pd.Series(data = np.arange(5), index = dates)\n",
    "dup_ts"
   ]
  },
  {
   "cell_type": "code",
   "execution_count": 107,
   "metadata": {},
   "outputs": [
    {
     "data": {
      "text/plain": [
       "False"
      ]
     },
     "execution_count": 107,
     "metadata": {},
     "output_type": "execute_result"
    }
   ],
   "source": [
    "dup_ts.index.is_unique"
   ]
  },
  {
   "cell_type": "markdown",
   "metadata": {},
   "source": [
    "***Indexing into this time series will now either produce scalar values or slices depending on whether a timestamp is duplicated.***\n",
    "\n",
    "***Suppose you wanted to aggregate the data having non-unique timestamp. One way to do this is to use `groupby` and pass `level = 0`(the only level of indexing)***"
   ]
  },
  {
   "cell_type": "code",
   "execution_count": 110,
   "metadata": {},
   "outputs": [
    {
     "name": "stdout",
     "output_type": "stream",
     "text": [
      "not duplicated: 4\n",
      "--------------------------------------------------\n",
      "duplicated: 2000-01-02    1\n",
      "2000-01-02    2\n",
      "2000-01-02    3\n",
      "dtype: int32\n"
     ]
    }
   ],
   "source": [
    "print(\"not duplicated:\", dup_ts['1/3/2000'])\n",
    "print('-'*50)\n",
    "print(\"duplicated:\", dup_ts['1/2/2000'])"
   ]
  },
  {
   "cell_type": "code",
   "execution_count": 117,
   "metadata": {},
   "outputs": [
    {
     "data": {
      "text/plain": [
       "2000-01-01    1\n",
       "2000-01-02    3\n",
       "2000-01-03    1\n",
       "dtype: int64"
      ]
     },
     "execution_count": 117,
     "metadata": {},
     "output_type": "execute_result"
    }
   ],
   "source": [
    "grouped = dup_ts.groupby(level = 0)\n",
    "grouped.count()"
   ]
  },
  {
   "cell_type": "markdown",
   "metadata": {},
   "source": [
    "### Data Ranges, Frequencies, and Shifting\n",
    "\n",
    "Generic time series in pandas are assumed to be irregular, they have no fixed frequency.\n",
    "\n",
    "It often desirable to work relative to fixed frequency, duch as daily, monthly or every 15 minutes, even if that means introducing missing values into time series.\n",
    "\n",
    "Fortunately pandas has a full suite of standard time series frequencies and tools for resampling, inferring frequencies, and generating fix frequency data range.\n",
    "\n",
    "***Converting it to be fixed daily frequency can be a accomplished by calling `resample`.***"
   ]
  },
  {
   "cell_type": "code",
   "execution_count": 142,
   "metadata": {},
   "outputs": [
    {
     "data": {
      "text/plain": [
       "2011-01-02   -0.212350\n",
       "2011-01-05   -0.779441\n",
       "2011-01-07    0.799974\n",
       "2011-01-08   -0.280717\n",
       "2011-01-10   -0.366642\n",
       "2011-01-12    0.121225\n",
       "dtype: float64"
      ]
     },
     "execution_count": 142,
     "metadata": {},
     "output_type": "execute_result"
    }
   ],
   "source": [
    "dates = [datetime(2011, 1, 2), datetime(2011, 1, 5), datetime(2011, 1, 7),\n",
    "         datetime(2011, 1, 8), datetime(2011, 1, 10), datetime(2011, 1, 12)]\n",
    "\n",
    "ts = pd.Series(data = np.random.randn(6), index = dates)\n",
    "ts"
   ]
  },
  {
   "cell_type": "code",
   "execution_count": 152,
   "metadata": {},
   "outputs": [
    {
     "data": {
      "text/plain": [
       "2011-01-02   -0.212350\n",
       "2011-01-03         NaN\n",
       "2011-01-04         NaN\n",
       "2011-01-05   -0.779441\n",
       "2011-01-06         NaN\n",
       "Freq: D, dtype: float64"
      ]
     },
     "execution_count": 152,
     "metadata": {},
     "output_type": "execute_result"
    }
   ],
   "source": [
    "ts.resample('1D').asfreq()[:5]"
   ]
  },
  {
   "cell_type": "markdown",
   "metadata": {},
   "source": [
    "### Generating Date Ranges\n",
    "\n",
    "`pd.date_range` generates daily timestamps.\n",
    "\n",
    "If you pass only a start or end date, you must pass a number of periods to generate.\n",
    "\n",
    "The start and end dates defind strict boundaries for the generated date index."
   ]
  },
  {
   "cell_type": "code",
   "execution_count": 153,
   "metadata": {},
   "outputs": [
    {
     "data": {
      "text/plain": [
       "DatetimeIndex(['2012-04-01', '2012-04-02', '2012-04-03', '2012-04-04',\n",
       "               '2012-04-05', '2012-04-06', '2012-04-07', '2012-04-08',\n",
       "               '2012-04-09', '2012-04-10', '2012-04-11', '2012-04-12',\n",
       "               '2012-04-13', '2012-04-14', '2012-04-15', '2012-04-16',\n",
       "               '2012-04-17', '2012-04-18', '2012-04-19', '2012-04-20'],\n",
       "              dtype='datetime64[ns]', freq='D')"
      ]
     },
     "execution_count": 153,
     "metadata": {},
     "output_type": "execute_result"
    }
   ],
   "source": [
    "pd.date_range(start = \"4/1/2012\", periods = 20)"
   ]
  },
  {
   "cell_type": "code",
   "execution_count": 154,
   "metadata": {},
   "outputs": [
    {
     "data": {
      "text/plain": [
       "DatetimeIndex(['2012-05-13', '2012-05-14', '2012-05-15', '2012-05-16',\n",
       "               '2012-05-17', '2012-05-18', '2012-05-19', '2012-05-20',\n",
       "               '2012-05-21', '2012-05-22', '2012-05-23', '2012-05-24',\n",
       "               '2012-05-25', '2012-05-26', '2012-05-27', '2012-05-28',\n",
       "               '2012-05-29', '2012-05-30', '2012-05-31', '2012-06-01'],\n",
       "              dtype='datetime64[ns]', freq='D')"
      ]
     },
     "execution_count": 154,
     "metadata": {},
     "output_type": "execute_result"
    }
   ],
   "source": [
    "pd.date_range(end = '6/1/2012', periods = 20)"
   ]
  },
  {
   "cell_type": "code",
   "execution_count": 155,
   "metadata": {
    "scrolled": false
   },
   "outputs": [
    {
     "data": {
      "text/plain": [
       "DatetimeIndex(['2000-01-31', '2000-02-29', '2000-03-31', '2000-04-28',\n",
       "               '2000-05-31', '2000-06-30', '2000-07-31', '2000-08-31',\n",
       "               '2000-09-29', '2000-10-31', '2000-11-30'],\n",
       "              dtype='datetime64[ns]', freq='BM')"
      ]
     },
     "execution_count": 155,
     "metadata": {},
     "output_type": "execute_result"
    }
   ],
   "source": [
    "pd.date_range(start = '1/1/2000', end = '12/1/2000', freq = 'BM')"
   ]
  },
  {
   "cell_type": "markdown",
   "metadata": {},
   "source": [
    "***Sometimes you will have start or end dates with time information but want to generate a set of timestamps `normalized` to midnight as a convention.***"
   ]
  },
  {
   "cell_type": "code",
   "execution_count": 156,
   "metadata": {},
   "outputs": [
    {
     "data": {
      "text/plain": [
       "DatetimeIndex(['2012-05-02', '2012-05-03', '2012-05-04', '2012-05-05',\n",
       "               '2012-05-06'],\n",
       "              dtype='datetime64[ns]', freq='D')"
      ]
     },
     "execution_count": 156,
     "metadata": {},
     "output_type": "execute_result"
    }
   ],
   "source": [
    "pd.date_range('5/2/2012 12:56:31', periods = 5, normalize = True)"
   ]
  },
  {
   "cell_type": "markdown",
   "metadata": {},
   "source": [
    "### Frequencies and Data Offsets\n",
    "\n",
    "Frequencies in pandas are composed of a base frequency and multiplier.\n",
    "\n",
    "Base frequencies are typically refferred to by a sting alias, like `M` for monthly or `H` for hourly.\n",
    "\n",
    "For each base frequency, there is an object defind generally referred to  as a `data offset`."
   ]
  },
  {
   "cell_type": "code",
   "execution_count": 157,
   "metadata": {},
   "outputs": [],
   "source": [
    "from pandas.tseries.offsets import Hour, Minute"
   ]
  },
  {
   "cell_type": "code",
   "execution_count": 160,
   "metadata": {},
   "outputs": [
    {
     "data": {
      "text/plain": [
       "<Hour>"
      ]
     },
     "execution_count": 160,
     "metadata": {},
     "output_type": "execute_result"
    }
   ],
   "source": [
    "hour = Hour(n = 1)\n",
    "hour"
   ]
  },
  {
   "cell_type": "markdown",
   "metadata": {},
   "source": [
    "In most applications, you would never need to explicitly create one of these objects, instead using string alias like \"H\" or \"4H\".\n",
    "\n",
    "Similary, you can pass frequency like `2h30min` whcih will effectively be parsrd to the same expression."
   ]
  },
  {
   "cell_type": "code",
   "execution_count": 161,
   "metadata": {},
   "outputs": [
    {
     "data": {
      "text/plain": [
       "DatetimeIndex(['2000-01-01 00:00:00', '2000-01-01 04:00:00',\n",
       "               '2000-01-01 08:00:00', '2000-01-01 12:00:00',\n",
       "               '2000-01-01 16:00:00', '2000-01-01 20:00:00',\n",
       "               '2000-01-02 00:00:00', '2000-01-02 04:00:00',\n",
       "               '2000-01-02 08:00:00', '2000-01-02 12:00:00',\n",
       "               '2000-01-02 16:00:00', '2000-01-02 20:00:00',\n",
       "               '2000-01-03 00:00:00'],\n",
       "              dtype='datetime64[ns]', freq='4H')"
      ]
     },
     "execution_count": 161,
     "metadata": {},
     "output_type": "execute_result"
    }
   ],
   "source": [
    "pd.date_range(start = '1/1/2000', end = '1/3/2000', freq = '4H')"
   ]
  },
  {
   "cell_type": "code",
   "execution_count": 162,
   "metadata": {},
   "outputs": [
    {
     "data": {
      "text/plain": [
       "<150 * Minutes>"
      ]
     },
     "execution_count": 162,
     "metadata": {},
     "output_type": "execute_result"
    }
   ],
   "source": [
    "Hour(2) + Minute(30)"
   ]
  },
  {
   "cell_type": "code",
   "execution_count": 181,
   "metadata": {},
   "outputs": [
    {
     "data": {
      "text/plain": [
       "DatetimeIndex(['2000-01-01 15:00:00', '2000-02-01 15:00:00',\n",
       "               '2000-03-01 15:00:00', '2000-04-01 15:00:00',\n",
       "               '2000-05-01 15:00:00', '2000-06-01 15:00:00',\n",
       "               '2000-07-01 15:00:00', '2000-08-01 15:00:00',\n",
       "               '2000-09-01 15:00:00', '2000-10-01 15:00:00'],\n",
       "              dtype='datetime64[ns]', freq='MS')"
      ]
     },
     "execution_count": 181,
     "metadata": {},
     "output_type": "execute_result"
    }
   ],
   "source": [
    "pd.date_range(\"1/1/2000\", periods = 10, freq = 'MS') + Hour(15)"
   ]
  },
  {
   "cell_type": "markdown",
   "metadata": {},
   "source": [
    "***Once useful frequency class is `week of month`, starting with `WOM`.***\n",
    "\n",
    "This enbles you to get dates like the third Friday of each month."
   ]
  },
  {
   "cell_type": "code",
   "execution_count": 183,
   "metadata": {},
   "outputs": [
    {
     "data": {
      "text/plain": [
       "DatetimeIndex(['2012-01-20', '2012-02-17', '2012-03-16', '2012-04-20',\n",
       "               '2012-05-18', '2012-06-15', '2012-07-20', '2012-08-17'],\n",
       "              dtype='datetime64[ns]', freq='WOM-3FRI')"
      ]
     },
     "execution_count": 183,
     "metadata": {},
     "output_type": "execute_result"
    }
   ],
   "source": [
    "# WOM = week of month\n",
    "rng = pd.date_range(\"1/1/2012\", \"9/1/2012\", freq = 'WOM-3FRI')\n",
    "rng"
   ]
  },
  {
   "cell_type": "markdown",
   "metadata": {},
   "source": [
    "### Shifting (Leading and Lagging) Data\n",
    "\n",
    "***`Shifting` refers to moving data backward and forward through time.***\n",
    "\n",
    "Both `Series` and `DataFrame` have a `shift` method for doing naive shifts forward or backward, leaving the index unmodified."
   ]
  },
  {
   "cell_type": "code",
   "execution_count": 216,
   "metadata": {},
   "outputs": [
    {
     "data": {
      "text/plain": [
       "2000-01-31    0.377505\n",
       "2000-02-29    1.702028\n",
       "2000-03-31   -0.578508\n",
       "2000-04-30   -0.529724\n",
       "Freq: M, dtype: float64"
      ]
     },
     "execution_count": 216,
     "metadata": {},
     "output_type": "execute_result"
    }
   ],
   "source": [
    "ts = pd.Series(data = np.random.randn(4), \n",
    "               index = pd.date_range(\"1/1/2000\", periods = 4, freq = 'M'))\n",
    "ts"
   ]
  },
  {
   "cell_type": "markdown",
   "metadata": {},
   "source": [
    "***A common use of `shift` is computing percent changes in a time series or multiple time series as `DataFrame` columns.***"
   ]
  },
  {
   "cell_type": "code",
   "execution_count": 233,
   "metadata": {},
   "outputs": [
    {
     "data": {
      "text/plain": [
       "2000-01-31         NaN\n",
       "2000-02-29    0.377505\n",
       "2000-03-31    1.702028\n",
       "2000-04-30   -0.578508\n",
       "Freq: M, dtype: float64"
      ]
     },
     "execution_count": 233,
     "metadata": {},
     "output_type": "execute_result"
    }
   ],
   "source": [
    "ts.shift(periods = 1)"
   ]
  },
  {
   "cell_type": "code",
   "execution_count": 231,
   "metadata": {},
   "outputs": [
    {
     "data": {
      "text/plain": [
       "2000-01-31         NaN\n",
       "2000-02-29    3.508620\n",
       "2000-03-31   -1.339893\n",
       "2000-04-30   -0.084326\n",
       "Freq: M, dtype: float64"
      ]
     },
     "execution_count": 231,
     "metadata": {},
     "output_type": "execute_result"
    }
   ],
   "source": [
    "ts/ts.shift(1) -1"
   ]
  },
  {
   "cell_type": "markdown",
   "metadata": {},
   "source": [
    "***Because naive shifts leave the index unmodified, some data is discarded.***\n",
    "\n",
    "Thus if the frequency is known, it can be passed to `shift` to advance the timestamps instead of simply the data.\n",
    "\n",
    "Other frequencies can be passed, too, giving you a lot of  flexibility in how to lead and lag the data."
   ]
  },
  {
   "cell_type": "code",
   "execution_count": 234,
   "metadata": {},
   "outputs": [
    {
     "data": {
      "text/plain": [
       "2000-03-31    0.377505\n",
       "2000-04-30    1.702028\n",
       "2000-05-31   -0.578508\n",
       "2000-06-30   -0.529724\n",
       "Freq: M, dtype: float64"
      ]
     },
     "execution_count": 234,
     "metadata": {},
     "output_type": "execute_result"
    }
   ],
   "source": [
    "ts.shift(periods = 2, freq = 'M')"
   ]
  },
  {
   "cell_type": "code",
   "execution_count": 236,
   "metadata": {},
   "outputs": [
    {
     "data": {
      "text/plain": [
       "2000-02-09    0.377505\n",
       "2000-03-09    1.702028\n",
       "2000-04-09   -0.578508\n",
       "2000-05-09   -0.529724\n",
       "dtype: float64"
      ]
     },
     "execution_count": 236,
     "metadata": {},
     "output_type": "execute_result"
    }
   ],
   "source": [
    "ts.shift(3, freq = '3D')"
   ]
  },
  {
   "cell_type": "markdown",
   "metadata": {},
   "source": [
    "### Shifting dates with offsets\n",
    "\n",
    "The pandas date offsets can also be used with `datetime` or `timestamp` objects."
   ]
  },
  {
   "cell_type": "code",
   "execution_count": 237,
   "metadata": {},
   "outputs": [],
   "source": [
    "from pandas.tseries.offsets import Day, MonthEnd"
   ]
  },
  {
   "cell_type": "code",
   "execution_count": 256,
   "metadata": {},
   "outputs": [
    {
     "data": {
      "text/plain": [
       "Timestamp('2018-07-27 22:34:57.496476')"
      ]
     },
     "execution_count": 256,
     "metadata": {},
     "output_type": "execute_result"
    }
   ],
   "source": [
    "now = datetime.now()\n",
    "now + 3*Day(n = 1)"
   ]
  },
  {
   "cell_type": "markdown",
   "metadata": {},
   "source": [
    "If you add an anchored offset like `MonthEnd`, the first increment will roll forward a date to the next date accroding to the frequency rule.\n",
    "\n",
    "***Anchored offset can explicitly `roll` dates forward or backward using their `rollforward` and `rollback` methods.***"
   ]
  },
  {
   "cell_type": "code",
   "execution_count": 261,
   "metadata": {},
   "outputs": [
    {
     "data": {
      "text/plain": [
       "Timestamp('2018-07-31 22:34:57.496476')"
      ]
     },
     "execution_count": 261,
     "metadata": {},
     "output_type": "execute_result"
    }
   ],
   "source": [
    "now + MonthEnd(1)"
   ]
  },
  {
   "cell_type": "code",
   "execution_count": 262,
   "metadata": {},
   "outputs": [
    {
     "name": "stdout",
     "output_type": "stream",
     "text": [
      "rollforward: 2018-07-31 22:34:57.496476\n",
      "--------------------------------------------------\n",
      "rollback : 2018-06-30 22:34:57.496476\n"
     ]
    }
   ],
   "source": [
    "offset = MonthEnd(n = 3)\n",
    "print(\"rollforward:\", offset.rollforward(now))\n",
    "print(\"-\"*50)\n",
    "print('rollback :', offset.rollback(now))"
   ]
  },
  {
   "cell_type": "markdown",
   "metadata": {},
   "source": [
    "***A clever use of date offsets is to use these method with `groupby`.***\n",
    "\n",
    "***An easier and faster way to do this is using `resample`.***"
   ]
  },
  {
   "cell_type": "code",
   "execution_count": 263,
   "metadata": {},
   "outputs": [],
   "source": [
    "ts = pd.Series(data = np.random.randn(20), \n",
    "               index = pd.date_range('1/15/2000', periods = 20, freq = \"4d\"))"
   ]
  },
  {
   "cell_type": "code",
   "execution_count": 284,
   "metadata": {},
   "outputs": [
    {
     "data": {
      "text/plain": [
       "2000-02-24    0.844129\n",
       "2000-02-28    0.492659\n",
       "2000-03-03    0.476501\n",
       "2000-03-07    1.089468\n",
       "2000-03-11   -0.508926\n",
       "2000-03-15   -1.020953\n",
       "2000-03-19   -0.986535\n",
       "2000-03-23   -0.294251\n",
       "2000-03-27    0.989068\n",
       "2000-03-31    1.377291\n",
       "Freq: 4D, dtype: float64"
      ]
     },
     "execution_count": 284,
     "metadata": {},
     "output_type": "execute_result"
    }
   ],
   "source": [
    "ts[-10:]"
   ]
  },
  {
   "cell_type": "code",
   "execution_count": 283,
   "metadata": {},
   "outputs": [
    {
     "name": "stdout",
     "output_type": "stream",
     "text": [
      "-0.08426582732454978\n",
      "-0.08426582732454978\n",
      "-0.08426582732454978\n"
     ]
    }
   ],
   "source": [
    "print(ts[ts.index < datetime(2000, 2, 1)].mean())\n",
    "print(ts[ts.index < \"2/1/2000\"].mean())\n",
    "print(ts[ts.index < \"2000/2/1\"].mean())"
   ]
  },
  {
   "cell_type": "code",
   "execution_count": 268,
   "metadata": {},
   "outputs": [
    {
     "data": {
      "text/plain": [
       "2000-01-31   -0.084266\n",
       "2000-02-29    0.010549\n",
       "2000-03-31    0.140208\n",
       "dtype: float64"
      ]
     },
     "execution_count": 268,
     "metadata": {},
     "output_type": "execute_result"
    }
   ],
   "source": [
    "ts.groupby(offest.rollforward).mean()"
   ]
  },
  {
   "cell_type": "code",
   "execution_count": 288,
   "metadata": {},
   "outputs": [
    {
     "data": {
      "text/plain": [
       "2000-01-31   -0.084266\n",
       "2000-02-29    0.010549\n",
       "2000-03-31    0.140208\n",
       "Freq: M, dtype: float64"
      ]
     },
     "execution_count": 288,
     "metadata": {},
     "output_type": "execute_result"
    }
   ],
   "source": [
    "ts.resample(\"M\").mean()"
   ]
  },
  {
   "cell_type": "markdown",
   "metadata": {},
   "source": [
    "### Time Zone Handling"
   ]
  },
  {
   "cell_type": "code",
   "execution_count": 5,
   "metadata": {},
   "outputs": [],
   "source": [
    "import pytz"
   ]
  },
  {
   "cell_type": "code",
   "execution_count": 298,
   "metadata": {},
   "outputs": [
    {
     "data": {
      "text/plain": [
       "['US/Eastern', 'US/Hawaii', 'US/Mountain', 'US/Pacific', 'UTC']"
      ]
     },
     "execution_count": 298,
     "metadata": {},
     "output_type": "execute_result"
    }
   ],
   "source": [
    "pytz.common_timezones[-5:]"
   ]
  },
  {
   "cell_type": "code",
   "execution_count": 302,
   "metadata": {},
   "outputs": [
    {
     "data": {
      "text/plain": [
       "<DstTzInfo 'Asia/Taipei' LMT+8:06:00 STD>"
      ]
     },
     "execution_count": 302,
     "metadata": {},
     "output_type": "execute_result"
    }
   ],
   "source": [
    "tz = pytz.timezone(zone = 'Asia/Taipei')\n",
    "tz"
   ]
  },
  {
   "cell_type": "markdown",
   "metadata": {},
   "source": [
    "### Localization and Conversion\n",
    "\n",
    "`date_range` can be generated with a time zone set.\n",
    "\n",
    "`tz_convert` are also instance method on `DateIndex`."
   ]
  },
  {
   "cell_type": "code",
   "execution_count": 313,
   "metadata": {},
   "outputs": [
    {
     "name": "stdout",
     "output_type": "stream",
     "text": [
      "2012-03-09 09:30:00+08:00    1.263575\n",
      "2012-03-10 09:30:00+08:00    1.011629\n",
      "2012-03-11 09:30:00+08:00    1.993148\n",
      "2012-03-12 09:30:00+08:00   -0.717136\n",
      "2012-03-13 09:30:00+08:00    0.935880\n",
      "2012-03-14 09:30:00+08:00    0.249375\n",
      "Freq: D, dtype: float64\n",
      "--------------------------------------------------\n",
      "Asia/Taipei\n"
     ]
    }
   ],
   "source": [
    "rng = pd.date_range('3/9/2012 9:30', periods = 6, freq = 'D', tz = tz)\n",
    "ts = pd.Series(data = np.random.randn(len(rng)), index = rng)\n",
    "print(ts)\n",
    "print(\"-\"*50)\n",
    "print(ts.index.tz)"
   ]
  },
  {
   "cell_type": "markdown",
   "metadata": {},
   "source": [
    "***Conversion from naive to localized is handled by the `tz_convert` method.***"
   ]
  },
  {
   "cell_type": "code",
   "execution_count": 331,
   "metadata": {},
   "outputs": [
    {
     "data": {
      "text/plain": [
       "2012-03-09 01:30:00+00:00    1.263575\n",
       "2012-03-10 01:30:00+00:00    1.011629\n",
       "2012-03-11 01:30:00+00:00    1.993148\n",
       "2012-03-12 01:30:00+00:00   -0.717136\n",
       "2012-03-13 01:30:00+00:00    0.935880\n",
       "2012-03-14 01:30:00+00:00    0.249375\n",
       "Freq: D, dtype: float64"
      ]
     },
     "execution_count": 331,
     "metadata": {},
     "output_type": "execute_result"
    }
   ],
   "source": [
    "ts_utc = ts.tz_convert(tz = 'UTC')\n",
    "ts_utc"
   ]
  },
  {
   "cell_type": "code",
   "execution_count": 330,
   "metadata": {},
   "outputs": [
    {
     "data": {
      "text/plain": [
       "2012-03-08 20:30:00-05:00    1.263575\n",
       "2012-03-09 20:30:00-05:00    1.011629\n",
       "2012-03-10 20:30:00-05:00    1.993148\n",
       "2012-03-11 21:30:00-04:00   -0.717136\n",
       "2012-03-12 21:30:00-04:00    0.935880\n",
       "2012-03-13 21:30:00-04:00    0.249375\n",
       "Freq: D, dtype: float64"
      ]
     },
     "execution_count": 330,
     "metadata": {},
     "output_type": "execute_result"
    }
   ],
   "source": [
    "ts_utc.tz_convert(tz = 'US/Eastern')"
   ]
  },
  {
   "cell_type": "markdown",
   "metadata": {},
   "source": [
    "### Operations with Time Zone - aware Timestamp Objects\n",
    "\n",
    "***Similar to time series and date ranges, individual Timestamp objects similarly can be localized from naive to time zone-aware and converted from one time zone to another.***\n",
    "\n",
    "If you don't defind time-zone when creating the `timestamp` or `date_range`, you can use `tz_localized` to setting time-zone.\n",
    "\n",
    "`tz_convert` use to change time zone from one to another."
   ]
  },
  {
   "cell_type": "code",
   "execution_count": 339,
   "metadata": {},
   "outputs": [
    {
     "data": {
      "text/plain": [
       "Timestamp('2011-03-12 04:00:00+0000', tz='UTC')"
      ]
     },
     "execution_count": 339,
     "metadata": {},
     "output_type": "execute_result"
    }
   ],
   "source": [
    "stamp = pd.Timestamp('2011-03-12 04:00')\n",
    "stamp_utc = stamp.tz_localize('utc')\n",
    "stamp_utc"
   ]
  },
  {
   "cell_type": "code",
   "execution_count": 338,
   "metadata": {},
   "outputs": [
    {
     "data": {
      "text/plain": [
       "Timestamp('2011-03-11 23:00:00-0500', tz='US/Eastern')"
      ]
     },
     "execution_count": 338,
     "metadata": {},
     "output_type": "execute_result"
    }
   ],
   "source": [
    "stamp_utc.tz_convert('US/Eastern')"
   ]
  },
  {
   "cell_type": "markdown",
   "metadata": {},
   "source": [
    "You can also pass time zone when creating the timestamp."
   ]
  },
  {
   "cell_type": "code",
   "execution_count": 341,
   "metadata": {},
   "outputs": [
    {
     "data": {
      "text/plain": [
       "Timestamp('2011-03-12 04:00:00+0300', tz='Europe/Moscow')"
      ]
     },
     "execution_count": 341,
     "metadata": {},
     "output_type": "execute_result"
    }
   ],
   "source": [
    "stamp_moscow = pd.Timestamp('2011-03-12 04:00', tz = 'Europe/Moscow')\n",
    "stamp_moscow"
   ]
  },
  {
   "cell_type": "markdown",
   "metadata": {},
   "source": [
    "***Time zone aware `Timestamp` objects internally store a UTC timestamp value as nanoseconds since the UNIX epoch(January, 1, 1970).***\n",
    "\n",
    "***This UTC value is invariant between time zone conversions.***"
   ]
  },
  {
   "cell_type": "code",
   "execution_count": 343,
   "metadata": {},
   "outputs": [
    {
     "data": {
      "text/plain": [
       "1299902400000000000"
      ]
     },
     "execution_count": 343,
     "metadata": {},
     "output_type": "execute_result"
    }
   ],
   "source": [
    "stamp_utc.value"
   ]
  },
  {
   "cell_type": "code",
   "execution_count": 345,
   "metadata": {},
   "outputs": [
    {
     "data": {
      "text/plain": [
       "1299902400000000000"
      ]
     },
     "execution_count": 345,
     "metadata": {},
     "output_type": "execute_result"
    }
   ],
   "source": [
    "stamp_utc.tz_convert(\"US/Eastern\").value"
   ]
  },
  {
   "cell_type": "markdown",
   "metadata": {},
   "source": [
    "When performing time arithmetic using pandas's `DateOffset` objects, daylight savings time transitions are respected where possible."
   ]
  },
  {
   "cell_type": "code",
   "execution_count": 4,
   "metadata": {},
   "outputs": [],
   "source": [
    "from pandas.tseries.offsets import Hour"
   ]
  },
  {
   "cell_type": "code",
   "execution_count": 349,
   "metadata": {},
   "outputs": [
    {
     "data": {
      "text/plain": [
       "Timestamp('2012-03-12 01:30:00-0400', tz='US/Eastern')"
      ]
     },
     "execution_count": 349,
     "metadata": {},
     "output_type": "execute_result"
    }
   ],
   "source": [
    "stamp = pd.Timestamp('2012-03-12 01:30', tz = 'US/Eastern')\n",
    "stamp"
   ]
  },
  {
   "cell_type": "code",
   "execution_count": 350,
   "metadata": {},
   "outputs": [
    {
     "data": {
      "text/plain": [
       "Timestamp('2012-03-12 03:30:00-0400', tz='US/Eastern')"
      ]
     },
     "execution_count": 350,
     "metadata": {},
     "output_type": "execute_result"
    }
   ],
   "source": [
    "stamp + Hour(2)"
   ]
  },
  {
   "cell_type": "markdown",
   "metadata": {},
   "source": [
    "### Operations between Different Time Zones\n",
    "\n",
    "***If two time series with different time zones are combined, the result will be UTC.***\n",
    "\n",
    "Since the timestamps are stored under the hood in UTC, this is a straightforward operation and requires no conversion to happen."
   ]
  },
  {
   "cell_type": "code",
   "execution_count": 352,
   "metadata": {},
   "outputs": [
    {
     "data": {
      "text/plain": [
       "DatetimeIndex(['2012-03-07 09:30:00', '2012-03-08 09:30:00',\n",
       "               '2012-03-09 09:30:00', '2012-03-12 09:30:00',\n",
       "               '2012-03-13 09:30:00', '2012-03-14 09:30:00',\n",
       "               '2012-03-15 09:30:00', '2012-03-16 09:30:00',\n",
       "               '2012-03-19 09:30:00', '2012-03-20 09:30:00'],\n",
       "              dtype='datetime64[ns]', freq='B')"
      ]
     },
     "execution_count": 352,
     "metadata": {},
     "output_type": "execute_result"
    }
   ],
   "source": [
    "rng = pd.date_range('3/7/2012 9:30', periods = 10, freq = \"B\")\n",
    "rng"
   ]
  },
  {
   "cell_type": "code",
   "execution_count": 354,
   "metadata": {},
   "outputs": [
    {
     "data": {
      "text/plain": [
       "2012-03-16 09:30:00   -1.805851\n",
       "2012-03-19 09:30:00   -0.211622\n",
       "2012-03-20 09:30:00    0.344688\n",
       "Freq: B, dtype: float64"
      ]
     },
     "execution_count": 354,
     "metadata": {},
     "output_type": "execute_result"
    }
   ],
   "source": [
    "ts = pd.Series(np.random.randn(len(rng)), index = rng)\n",
    "ts[-3:]"
   ]
  },
  {
   "cell_type": "code",
   "execution_count": 365,
   "metadata": {},
   "outputs": [
    {
     "name": "stdout",
     "output_type": "stream",
     "text": [
      "ts1: 2012-03-07 09:30:00+00:00   -0.161699\n",
      "2012-03-08 09:30:00+00:00    1.308506\n",
      "2012-03-09 09:30:00+00:00    0.081826\n",
      "2012-03-12 09:30:00+00:00   -0.308216\n",
      "2012-03-13 09:30:00+00:00    0.038805\n",
      "2012-03-14 09:30:00+00:00    2.220636\n",
      "2012-03-15 09:30:00+00:00   -1.299924\n",
      "Freq: B, dtype: float64\n",
      "ts1 dtype :  datetime64[ns, Europe/London]\n",
      "--------------------------------------------------\n",
      "ts2: 2012-03-09 13:30:00+04:00    0.081826\n",
      "2012-03-12 13:30:00+04:00   -0.308216\n",
      "2012-03-13 13:30:00+04:00    0.038805\n",
      "2012-03-14 13:30:00+04:00    2.220636\n",
      "2012-03-15 13:30:00+04:00   -1.299924\n",
      "Freq: B, dtype: float64\n",
      "ts2 dtype :  datetime64[ns, Europe/Moscow]\n",
      "--------------------------------------------------\n",
      "result: 2012-03-07 09:30:00+00:00         NaN\n",
      "2012-03-08 09:30:00+00:00         NaN\n",
      "2012-03-09 09:30:00+00:00    0.163651\n",
      "2012-03-12 09:30:00+00:00   -0.616433\n",
      "2012-03-13 09:30:00+00:00    0.077611\n",
      "2012-03-14 09:30:00+00:00    4.441272\n",
      "2012-03-15 09:30:00+00:00   -2.599847\n",
      "Freq: B, dtype: float64\n",
      "result dtype: datetime64[ns, UTC]\n"
     ]
    }
   ],
   "source": [
    "ts1 = ts[:7].tz_localize('Europe/London')\n",
    "print(\"ts1:\", ts1)\n",
    "print(\"ts1 dtype : \", ts1.index.dtype)\n",
    "print(\"-\"*50)\n",
    "ts2 = ts1[2:].tz_convert('Europe/Moscow')\n",
    "print(\"ts2:\", ts2)\n",
    "print(\"ts2 dtype : \", ts2.index.dtype)\n",
    "print(\"-\"*50)\n",
    "result = ts1 + ts2\n",
    "print('result:', result)\n",
    "print('result dtype:', result.index.dtype)"
   ]
  },
  {
   "cell_type": "markdown",
   "metadata": {},
   "source": [
    "### Periods and Period Arithmetic\n",
    "\n",
    "`Periods` represent time span, like days, months, quarters, or years.\n",
    "\n",
    "The `Period` class represents this day type, requiring a string or integer and a frequency from the above table.\n",
    "\n",
    "In this case, the `Period` object represents the full timespan from January 1, 2007 at December 31, 2007, inclusive.\n",
    "\n",
    "Conveniently, adding and subtracting integers from periods has the effect of shifting by their frequency."
   ]
  },
  {
   "cell_type": "code",
   "execution_count": 3,
   "metadata": {},
   "outputs": [
    {
     "data": {
      "text/plain": [
       "Period('2007', 'A-DEC')"
      ]
     },
     "execution_count": 3,
     "metadata": {},
     "output_type": "execute_result"
    }
   ],
   "source": [
    "p = pd.Period(value = 2007, freq = 'A-DEC')\n",
    "p"
   ]
  },
  {
   "cell_type": "code",
   "execution_count": 4,
   "metadata": {},
   "outputs": [
    {
     "data": {
      "text/plain": [
       "Period('2012', 'A-DEC')"
      ]
     },
     "execution_count": 4,
     "metadata": {},
     "output_type": "execute_result"
    }
   ],
   "source": [
    "p + 5"
   ]
  },
  {
   "cell_type": "markdown",
   "metadata": {},
   "source": [
    "If two periods have the **same frequency**, their difference is the number of units between them."
   ]
  },
  {
   "cell_type": "code",
   "execution_count": 5,
   "metadata": {},
   "outputs": [
    {
     "data": {
      "text/plain": [
       "7"
      ]
     },
     "execution_count": 5,
     "metadata": {},
     "output_type": "execute_result"
    }
   ],
   "source": [
    "pd.Period(value = '2014', freq = 'A-DEC') - p"
   ]
  },
  {
   "cell_type": "markdown",
   "metadata": {},
   "source": [
    "Regular ranges of periods can be constructed using the `period_range` function.\n",
    "\n",
    "***The `PeriodIndex` class store a sequence of period and can serve as an axis index in any `pandas` data structure.***"
   ]
  },
  {
   "cell_type": "code",
   "execution_count": 8,
   "metadata": {},
   "outputs": [
    {
     "data": {
      "text/plain": [
       "PeriodIndex(['2000-01', '2000-02', '2000-03', '2000-04', '2000-05', '2000-06'], dtype='period[M]', freq='M')"
      ]
     },
     "execution_count": 8,
     "metadata": {},
     "output_type": "execute_result"
    }
   ],
   "source": [
    "rng = pd.period_range(start = '1/1/2000', end = '6/30/2000', freq = 'M')\n",
    "rng"
   ]
  },
  {
   "cell_type": "code",
   "execution_count": 9,
   "metadata": {
    "scrolled": true
   },
   "outputs": [
    {
     "data": {
      "text/plain": [
       "2000-01    0.985246\n",
       "2000-02   -0.565566\n",
       "2000-03    1.416558\n",
       "2000-04   -0.857686\n",
       "2000-05   -0.556453\n",
       "2000-06    0.603601\n",
       "Freq: M, dtype: float64"
      ]
     },
     "execution_count": 9,
     "metadata": {},
     "output_type": "execute_result"
    }
   ],
   "source": [
    "pd.Series(data = np.random.randn(6), index = rng)"
   ]
  },
  {
   "cell_type": "markdown",
   "metadata": {},
   "source": [
    "***If you have any array of strings, you can also appeal to the `PeriodIndex` class itself.***"
   ]
  },
  {
   "cell_type": "code",
   "execution_count": 10,
   "metadata": {},
   "outputs": [
    {
     "data": {
      "text/plain": [
       "PeriodIndex(['2001Q3', '2002Q2', '2003Q1'], dtype='period[Q-DEC]', freq='Q-DEC')"
      ]
     },
     "execution_count": 10,
     "metadata": {},
     "output_type": "execute_result"
    }
   ],
   "source": [
    "values = ['2001Q3', '2002Q2', '2003Q1']\n",
    "index = pd.PeriodIndex(values, freq = 'Q-DEC')\n",
    "index"
   ]
  },
  {
   "cell_type": "markdown",
   "metadata": {},
   "source": [
    "### Period Frequency Conversion\n",
    "\n",
    "***`Period` and `PeriodIndex` objects can be converted to another frequency using their `asfreq` method.***\n",
    "\n",
    "You can think of `Period(\"2007\", \"A-DEC\")` as being a cursor pointing to a span of time, subdivided by monthly periods.\n",
    "\n",
    "For a `fiscal year` ending on a month other than December, the monthly subperiods belonging are different."
   ]
  },
  {
   "cell_type": "code",
   "execution_count": 11,
   "metadata": {},
   "outputs": [
    {
     "data": {
      "text/plain": [
       "Period('2007', 'A-JUN')"
      ]
     },
     "execution_count": 11,
     "metadata": {},
     "output_type": "execute_result"
    }
   ],
   "source": [
    "p = pd.Period('2007', freq = 'A-JUN')\n",
    "p"
   ]
  },
  {
   "cell_type": "code",
   "execution_count": 12,
   "metadata": {},
   "outputs": [
    {
     "data": {
      "text/plain": [
       "Period('2006-07', 'M')"
      ]
     },
     "execution_count": 12,
     "metadata": {},
     "output_type": "execute_result"
    }
   ],
   "source": [
    "p.asfreq(freq = \"M\", how = 'start')"
   ]
  },
  {
   "cell_type": "code",
   "execution_count": 13,
   "metadata": {},
   "outputs": [
    {
     "data": {
      "text/plain": [
       "Period('2007-06', 'M')"
      ]
     },
     "execution_count": 13,
     "metadata": {},
     "output_type": "execute_result"
    }
   ],
   "source": [
    "p.asfreq(freq = 'M', how = 'end')"
   ]
  },
  {
   "cell_type": "code",
   "execution_count": 14,
   "metadata": {},
   "outputs": [
    {
     "data": {
      "text/plain": [
       "Period('2008', 'A-JAN')"
      ]
     },
     "execution_count": 14,
     "metadata": {},
     "output_type": "execute_result"
    }
   ],
   "source": [
    "p = pd.Period(value = '2007-08', freq = 'M')\n",
    "p.asfreq(\"A-JAN\")"
   ]
  },
  {
   "cell_type": "code",
   "execution_count": 15,
   "metadata": {},
   "outputs": [],
   "source": [
    "rng = pd.period_range('2006', '2009', freq='A-DEC')"
   ]
  },
  {
   "cell_type": "code",
   "execution_count": 16,
   "metadata": {},
   "outputs": [
    {
     "data": {
      "text/plain": [
       "2006   -1.613441\n",
       "2007   -1.205902\n",
       "2008   -0.020843\n",
       "2009    0.121466\n",
       "Freq: A-DEC, dtype: float64"
      ]
     },
     "execution_count": 16,
     "metadata": {},
     "output_type": "execute_result"
    }
   ],
   "source": [
    "ts = pd.Series(np.random.randn(len(rng)), index = rng)\n",
    "ts"
   ]
  },
  {
   "cell_type": "code",
   "execution_count": 17,
   "metadata": {},
   "outputs": [
    {
     "data": {
      "text/plain": [
       "2006-01   -1.613441\n",
       "2007-01   -1.205902\n",
       "2008-01   -0.020843\n",
       "2009-01    0.121466\n",
       "Freq: M, dtype: float64"
      ]
     },
     "execution_count": 17,
     "metadata": {},
     "output_type": "execute_result"
    }
   ],
   "source": [
    "ts.asfreq(freq = 'M', how = 'start')"
   ]
  },
  {
   "cell_type": "code",
   "execution_count": 18,
   "metadata": {},
   "outputs": [
    {
     "data": {
      "text/plain": [
       "2006-12-29   -1.613441\n",
       "2007-12-31   -1.205902\n",
       "2008-12-31   -0.020843\n",
       "2009-12-31    0.121466\n",
       "Freq: B, dtype: float64"
      ]
     },
     "execution_count": 18,
     "metadata": {},
     "output_type": "execute_result"
    }
   ],
   "source": [
    "ts.asfreq(freq = 'B', how = 'end')"
   ]
  },
  {
   "cell_type": "markdown",
   "metadata": {},
   "source": [
    "### Quarterly Period Frequencies\n",
    "\n",
    "Quarterly data is standard in accounting, finance, and other fields.\n",
    "\n",
    "Much quarterly data is reported relative to a `fiscal year end`, typeically the last calender or business day of one of 12 months of the year.\n",
    "\n",
    "As such, the period `2012Q4` has a different meaning depending on fiscal year end."
   ]
  },
  {
   "cell_type": "code",
   "execution_count": 19,
   "metadata": {},
   "outputs": [
    {
     "data": {
      "text/plain": [
       "Period('2012Q4', 'Q-JAN')"
      ]
     },
     "execution_count": 19,
     "metadata": {},
     "output_type": "execute_result"
    }
   ],
   "source": [
    "p = pd.Period('2012Q4', freq = \"Q-JAN\")\n",
    "p"
   ]
  },
  {
   "cell_type": "code",
   "execution_count": 20,
   "metadata": {},
   "outputs": [
    {
     "data": {
      "text/plain": [
       "Period('2011-11-01', 'D')"
      ]
     },
     "execution_count": 20,
     "metadata": {},
     "output_type": "execute_result"
    }
   ],
   "source": [
    "p.asfreq('D', 'start')"
   ]
  },
  {
   "cell_type": "code",
   "execution_count": 21,
   "metadata": {},
   "outputs": [
    {
     "data": {
      "text/plain": [
       "Period('2012-01-31', 'D')"
      ]
     },
     "execution_count": 21,
     "metadata": {},
     "output_type": "execute_result"
    }
   ],
   "source": [
    "p.asfreq('D', 'end')"
   ]
  },
  {
   "cell_type": "code",
   "execution_count": 26,
   "metadata": {},
   "outputs": [
    {
     "data": {
      "text/plain": [
       "Period('2012-01-30 16:00', 'T')"
      ]
     },
     "execution_count": 26,
     "metadata": {},
     "output_type": "execute_result"
    }
   ],
   "source": [
    "p4pm = (p.asfreq(\"B\", 'e') - 1).asfreq(\"T\", 's') + 16*60\n",
    "p4pm "
   ]
  },
  {
   "cell_type": "code",
   "execution_count": 27,
   "metadata": {},
   "outputs": [
    {
     "data": {
      "text/plain": [
       "Timestamp('2012-01-30 16:00:00')"
      ]
     },
     "execution_count": 27,
     "metadata": {},
     "output_type": "execute_result"
    }
   ],
   "source": [
    "p4pm.to_timestamp()"
   ]
  },
  {
   "cell_type": "markdown",
   "metadata": {},
   "source": [
    "Generating quarterly ranges works as you would expect using `period-range`."
   ]
  },
  {
   "cell_type": "code",
   "execution_count": 30,
   "metadata": {
    "scrolled": true
   },
   "outputs": [
    {
     "data": {
      "text/plain": [
       "2011Q3    0\n",
       "2011Q4    1\n",
       "2012Q1    2\n",
       "2012Q2    3\n",
       "2012Q3    4\n",
       "2012Q4    5\n",
       "Freq: Q-JAN, dtype: int32"
      ]
     },
     "execution_count": 30,
     "metadata": {},
     "output_type": "execute_result"
    }
   ],
   "source": [
    "rng = pd.period_range(start = '2011Q3', end = '2012Q4', freq = \"Q-JAN\")\n",
    "ts = pd.Series(np.arange(len(rng)), index=rng)\n",
    "ts"
   ]
  },
  {
   "cell_type": "code",
   "execution_count": 46,
   "metadata": {},
   "outputs": [
    {
     "data": {
      "text/plain": [
       "2010-10-28 16:00:00    0\n",
       "2011-01-28 16:00:00    1\n",
       "2011-04-28 16:00:00    2\n",
       "2011-07-28 16:00:00    3\n",
       "2011-10-28 16:00:00    4\n",
       "2012-01-30 16:00:00    5\n",
       "dtype: int32"
      ]
     },
     "execution_count": 46,
     "metadata": {},
     "output_type": "execute_result"
    }
   ],
   "source": [
    "new_rng = (rng.asfreq(\"B\", 'e') - 1).asfreq(\"T\", \"s\") + 16*60\n",
    "ts.index = new_rng.to_timestamp()\n",
    "ts"
   ]
  },
  {
   "cell_type": "markdown",
   "metadata": {},
   "source": [
    "### Converting Timestamps to Periods (and Back)\n",
    "\n",
    "`pd.Series` and `pd.DataFrame` objects indexed by timestamps can be converted to periods using the `to_period` method."
   ]
  },
  {
   "cell_type": "code",
   "execution_count": 50,
   "metadata": {},
   "outputs": [
    {
     "data": {
      "text/plain": [
       "2000-01-31   -0.593751\n",
       "2000-02-29    0.268146\n",
       "2000-03-31    1.382470\n",
       "Freq: M, dtype: float64"
      ]
     },
     "execution_count": 50,
     "metadata": {},
     "output_type": "execute_result"
    }
   ],
   "source": [
    "rng = pd.date_range(start = '1/1/2000', periods = 3, freq = 'M')\n",
    "ts = pd.Series(data = np.random.randn(3), index=rng)\n",
    "ts"
   ]
  },
  {
   "cell_type": "code",
   "execution_count": 55,
   "metadata": {},
   "outputs": [
    {
     "data": {
      "text/plain": [
       "2000-01   -0.593751\n",
       "2000-02    0.268146\n",
       "2000-03    1.382470\n",
       "Freq: M, dtype: float64"
      ]
     },
     "execution_count": 55,
     "metadata": {},
     "output_type": "execute_result"
    }
   ],
   "source": [
    "pts = ts.to_period()\n",
    "pts"
   ]
  },
  {
   "cell_type": "markdown",
   "metadata": {},
   "source": [
    "Since periods always refer to non-overlapping timespans, a timestamp can only belong to a single period for a given frequency.\n",
    "\n",
    "While the frequency of the new `PeriodIndex` is inferred from the timestamp by default, you can specify any frequency you want."
   ]
  },
  {
   "cell_type": "code",
   "execution_count": 65,
   "metadata": {},
   "outputs": [
    {
     "data": {
      "text/plain": [
       "2000-01-31   -0.029120\n",
       "2000-02-29    0.763057\n",
       "2000-03-31   -4.009619\n",
       "Freq: M, dtype: float64"
      ]
     },
     "execution_count": 65,
     "metadata": {},
     "output_type": "execute_result"
    }
   ],
   "source": [
    "rng = pd.date_range('1/29/2000', periods = 3, freq = 'M')\n",
    "ts2 = pd.Series(np.random.randn(3), index=rng)\n",
    "ts2"
   ]
  },
  {
   "cell_type": "code",
   "execution_count": 67,
   "metadata": {},
   "outputs": [
    {
     "data": {
      "text/plain": [
       "2000-01   -0.029120\n",
       "2000-02    0.763057\n",
       "2000-03   -4.009619\n",
       "Freq: M, dtype: float64"
      ]
     },
     "execution_count": 67,
     "metadata": {},
     "output_type": "execute_result"
    }
   ],
   "source": [
    "pts = ts2.to_period('M')\n",
    "pts"
   ]
  },
  {
   "cell_type": "markdown",
   "metadata": {},
   "source": [
    "***To convert back to timestamp, use `to_timestamp`***"
   ]
  },
  {
   "cell_type": "code",
   "execution_count": 68,
   "metadata": {},
   "outputs": [
    {
     "name": "stdout",
     "output_type": "stream",
     "text": [
      "2000-01-01   -0.029120\n",
      "2000-02-01    0.763057\n",
      "2000-03-01   -4.009619\n",
      "Freq: MS, dtype: float64\n",
      "--------------------------------------------------\n",
      "2000-01-31   -0.029120\n",
      "2000-02-29    0.763057\n",
      "2000-03-31   -4.009619\n",
      "Freq: M, dtype: float64\n"
     ]
    }
   ],
   "source": [
    "print(pts.to_timestamp(how = 'start'))\n",
    "print(\"-\"*50)\n",
    "print(pts.to_timestamp(how = 'end'))"
   ]
  },
  {
   "cell_type": "markdown",
   "metadata": {},
   "source": [
    "### Creating a PeriodIndex from array\n",
    "\n",
    "Fixed frequency data sets are sometimes stored with timespan information spread across multiple columns.\n",
    "\n",
    "***By passing these arrays to `PeriodIndex` with a frequency, they can be combined to form an index for the `DataFrame`.***"
   ]
  },
  {
   "cell_type": "code",
   "execution_count": 3,
   "metadata": {},
   "outputs": [
    {
     "data": {
      "text/html": [
       "<div>\n",
       "<style scoped>\n",
       "    .dataframe tbody tr th:only-of-type {\n",
       "        vertical-align: middle;\n",
       "    }\n",
       "\n",
       "    .dataframe tbody tr th {\n",
       "        vertical-align: top;\n",
       "    }\n",
       "\n",
       "    .dataframe thead th {\n",
       "        text-align: right;\n",
       "    }\n",
       "</style>\n",
       "<table border=\"1\" class=\"dataframe\">\n",
       "  <thead>\n",
       "    <tr style=\"text-align: right;\">\n",
       "      <th></th>\n",
       "      <th>year</th>\n",
       "      <th>quarter</th>\n",
       "      <th>realgdp</th>\n",
       "      <th>realcons</th>\n",
       "      <th>realinv</th>\n",
       "      <th>realgovt</th>\n",
       "      <th>realdpi</th>\n",
       "      <th>cpi</th>\n",
       "      <th>m1</th>\n",
       "      <th>tbilrate</th>\n",
       "      <th>unemp</th>\n",
       "      <th>pop</th>\n",
       "      <th>infl</th>\n",
       "      <th>realint</th>\n",
       "    </tr>\n",
       "  </thead>\n",
       "  <tbody>\n",
       "    <tr>\n",
       "      <th>200</th>\n",
       "      <td>2009.0</td>\n",
       "      <td>1.0</td>\n",
       "      <td>12925.410</td>\n",
       "      <td>9209.2</td>\n",
       "      <td>1558.494</td>\n",
       "      <td>996.287</td>\n",
       "      <td>9926.4</td>\n",
       "      <td>212.671</td>\n",
       "      <td>1592.8</td>\n",
       "      <td>0.22</td>\n",
       "      <td>8.1</td>\n",
       "      <td>306.547</td>\n",
       "      <td>0.94</td>\n",
       "      <td>-0.71</td>\n",
       "    </tr>\n",
       "    <tr>\n",
       "      <th>201</th>\n",
       "      <td>2009.0</td>\n",
       "      <td>2.0</td>\n",
       "      <td>12901.504</td>\n",
       "      <td>9189.0</td>\n",
       "      <td>1456.678</td>\n",
       "      <td>1023.528</td>\n",
       "      <td>10077.5</td>\n",
       "      <td>214.469</td>\n",
       "      <td>1653.6</td>\n",
       "      <td>0.18</td>\n",
       "      <td>9.2</td>\n",
       "      <td>307.226</td>\n",
       "      <td>3.37</td>\n",
       "      <td>-3.19</td>\n",
       "    </tr>\n",
       "    <tr>\n",
       "      <th>202</th>\n",
       "      <td>2009.0</td>\n",
       "      <td>3.0</td>\n",
       "      <td>12990.341</td>\n",
       "      <td>9256.0</td>\n",
       "      <td>1486.398</td>\n",
       "      <td>1044.088</td>\n",
       "      <td>10040.6</td>\n",
       "      <td>216.385</td>\n",
       "      <td>1673.9</td>\n",
       "      <td>0.12</td>\n",
       "      <td>9.6</td>\n",
       "      <td>308.013</td>\n",
       "      <td>3.56</td>\n",
       "      <td>-3.44</td>\n",
       "    </tr>\n",
       "  </tbody>\n",
       "</table>\n",
       "</div>"
      ],
      "text/plain": [
       "       year  quarter    realgdp  realcons   realinv  realgovt  realdpi  \\\n",
       "200  2009.0      1.0  12925.410    9209.2  1558.494   996.287   9926.4   \n",
       "201  2009.0      2.0  12901.504    9189.0  1456.678  1023.528  10077.5   \n",
       "202  2009.0      3.0  12990.341    9256.0  1486.398  1044.088  10040.6   \n",
       "\n",
       "         cpi      m1  tbilrate  unemp      pop  infl  realint  \n",
       "200  212.671  1592.8      0.22    8.1  306.547  0.94    -0.71  \n",
       "201  214.469  1653.6      0.18    9.2  307.226  3.37    -3.19  \n",
       "202  216.385  1673.9      0.12    9.6  308.013  3.56    -3.44  "
      ]
     },
     "execution_count": 3,
     "metadata": {},
     "output_type": "execute_result"
    }
   ],
   "source": [
    "data = pd.read_csv(\".\\\\pydata-book\\\\examples\\\\macrodata.csv\")\n",
    "data[-3:]"
   ]
  },
  {
   "cell_type": "code",
   "execution_count": 9,
   "metadata": {},
   "outputs": [
    {
     "data": {
      "text/plain": [
       "PeriodIndex(['1959Q1', '1959Q2', '1959Q3', '1959Q4', '1960Q1', '1960Q2',\n",
       "             '1960Q3', '1960Q4', '1961Q1', '1961Q2',\n",
       "             ...\n",
       "             '2007Q2', '2007Q3', '2007Q4', '2008Q1', '2008Q2', '2008Q3',\n",
       "             '2008Q4', '2009Q1', '2009Q2', '2009Q3'],\n",
       "            dtype='period[Q-DEC]', length=203, freq='Q-DEC')"
      ]
     },
     "execution_count": 9,
     "metadata": {},
     "output_type": "execute_result"
    }
   ],
   "source": [
    "index = pd.PeriodIndex(year = data['year'], \n",
    "                       quarter = data['quarter'], freq = 'Q-DEC')\n",
    "index"
   ]
  },
  {
   "cell_type": "code",
   "execution_count": 11,
   "metadata": {},
   "outputs": [
    {
     "data": {
      "text/html": [
       "<div>\n",
       "<style scoped>\n",
       "    .dataframe tbody tr th:only-of-type {\n",
       "        vertical-align: middle;\n",
       "    }\n",
       "\n",
       "    .dataframe tbody tr th {\n",
       "        vertical-align: top;\n",
       "    }\n",
       "\n",
       "    .dataframe thead th {\n",
       "        text-align: right;\n",
       "    }\n",
       "</style>\n",
       "<table border=\"1\" class=\"dataframe\">\n",
       "  <thead>\n",
       "    <tr style=\"text-align: right;\">\n",
       "      <th></th>\n",
       "      <th>year</th>\n",
       "      <th>quarter</th>\n",
       "      <th>realgdp</th>\n",
       "      <th>realcons</th>\n",
       "      <th>realinv</th>\n",
       "      <th>realgovt</th>\n",
       "      <th>realdpi</th>\n",
       "      <th>cpi</th>\n",
       "      <th>m1</th>\n",
       "      <th>tbilrate</th>\n",
       "      <th>unemp</th>\n",
       "      <th>pop</th>\n",
       "      <th>infl</th>\n",
       "      <th>realint</th>\n",
       "    </tr>\n",
       "  </thead>\n",
       "  <tbody>\n",
       "    <tr>\n",
       "      <th>2008Q3</th>\n",
       "      <td>2008.0</td>\n",
       "      <td>3.0</td>\n",
       "      <td>13324.600</td>\n",
       "      <td>9267.7</td>\n",
       "      <td>1990.693</td>\n",
       "      <td>991.551</td>\n",
       "      <td>9838.3</td>\n",
       "      <td>216.889</td>\n",
       "      <td>1474.7</td>\n",
       "      <td>1.17</td>\n",
       "      <td>6.0</td>\n",
       "      <td>305.270</td>\n",
       "      <td>-3.16</td>\n",
       "      <td>4.33</td>\n",
       "    </tr>\n",
       "    <tr>\n",
       "      <th>2008Q4</th>\n",
       "      <td>2008.0</td>\n",
       "      <td>4.0</td>\n",
       "      <td>13141.920</td>\n",
       "      <td>9195.3</td>\n",
       "      <td>1857.661</td>\n",
       "      <td>1007.273</td>\n",
       "      <td>9920.4</td>\n",
       "      <td>212.174</td>\n",
       "      <td>1576.5</td>\n",
       "      <td>0.12</td>\n",
       "      <td>6.9</td>\n",
       "      <td>305.952</td>\n",
       "      <td>-8.79</td>\n",
       "      <td>8.91</td>\n",
       "    </tr>\n",
       "    <tr>\n",
       "      <th>2009Q1</th>\n",
       "      <td>2009.0</td>\n",
       "      <td>1.0</td>\n",
       "      <td>12925.410</td>\n",
       "      <td>9209.2</td>\n",
       "      <td>1558.494</td>\n",
       "      <td>996.287</td>\n",
       "      <td>9926.4</td>\n",
       "      <td>212.671</td>\n",
       "      <td>1592.8</td>\n",
       "      <td>0.22</td>\n",
       "      <td>8.1</td>\n",
       "      <td>306.547</td>\n",
       "      <td>0.94</td>\n",
       "      <td>-0.71</td>\n",
       "    </tr>\n",
       "    <tr>\n",
       "      <th>2009Q2</th>\n",
       "      <td>2009.0</td>\n",
       "      <td>2.0</td>\n",
       "      <td>12901.504</td>\n",
       "      <td>9189.0</td>\n",
       "      <td>1456.678</td>\n",
       "      <td>1023.528</td>\n",
       "      <td>10077.5</td>\n",
       "      <td>214.469</td>\n",
       "      <td>1653.6</td>\n",
       "      <td>0.18</td>\n",
       "      <td>9.2</td>\n",
       "      <td>307.226</td>\n",
       "      <td>3.37</td>\n",
       "      <td>-3.19</td>\n",
       "    </tr>\n",
       "    <tr>\n",
       "      <th>2009Q3</th>\n",
       "      <td>2009.0</td>\n",
       "      <td>3.0</td>\n",
       "      <td>12990.341</td>\n",
       "      <td>9256.0</td>\n",
       "      <td>1486.398</td>\n",
       "      <td>1044.088</td>\n",
       "      <td>10040.6</td>\n",
       "      <td>216.385</td>\n",
       "      <td>1673.9</td>\n",
       "      <td>0.12</td>\n",
       "      <td>9.6</td>\n",
       "      <td>308.013</td>\n",
       "      <td>3.56</td>\n",
       "      <td>-3.44</td>\n",
       "    </tr>\n",
       "  </tbody>\n",
       "</table>\n",
       "</div>"
      ],
      "text/plain": [
       "          year  quarter    realgdp  realcons   realinv  realgovt  realdpi  \\\n",
       "2008Q3  2008.0      3.0  13324.600    9267.7  1990.693   991.551   9838.3   \n",
       "2008Q4  2008.0      4.0  13141.920    9195.3  1857.661  1007.273   9920.4   \n",
       "2009Q1  2009.0      1.0  12925.410    9209.2  1558.494   996.287   9926.4   \n",
       "2009Q2  2009.0      2.0  12901.504    9189.0  1456.678  1023.528  10077.5   \n",
       "2009Q3  2009.0      3.0  12990.341    9256.0  1486.398  1044.088  10040.6   \n",
       "\n",
       "            cpi      m1  tbilrate  unemp      pop  infl  realint  \n",
       "2008Q3  216.889  1474.7      1.17    6.0  305.270 -3.16     4.33  \n",
       "2008Q4  212.174  1576.5      0.12    6.9  305.952 -8.79     8.91  \n",
       "2009Q1  212.671  1592.8      0.22    8.1  306.547  0.94    -0.71  \n",
       "2009Q2  214.469  1653.6      0.18    9.2  307.226  3.37    -3.19  \n",
       "2009Q3  216.385  1673.9      0.12    9.6  308.013  3.56    -3.44  "
      ]
     },
     "execution_count": 11,
     "metadata": {},
     "output_type": "execute_result"
    }
   ],
   "source": [
    "data.index = index\n",
    "data[-5:]"
   ]
  },
  {
   "cell_type": "markdown",
   "metadata": {},
   "source": [
    "### Resampling and Frequency Conversion\n",
    "\n",
    "`Resampling` refers to the process of converting a time series from one frequency to another.\n",
    "\n",
    "***Aggregating higher frequency data to lower frequency is called `downsampling`, while converting lower frequency to higher frequency is called `upsampling`.***\n",
    "\n",
    "Not all resampling falls into either of these categories.\n",
    "\n",
    "For example, converting `W-WED`(weekly on Wednesday) to `W-FRI` is neither unsampling nor downsampling."
   ]
  },
  {
   "cell_type": "code",
   "execution_count": 16,
   "metadata": {},
   "outputs": [
    {
     "data": {
      "text/plain": [
       "DatetimeIndex(['2000-01-01', '2000-01-02', '2000-01-03', '2000-01-04',\n",
       "               '2000-01-05', '2000-01-06', '2000-01-07', '2000-01-08',\n",
       "               '2000-01-09', '2000-01-10', '2000-01-11', '2000-01-12',\n",
       "               '2000-01-13', '2000-01-14', '2000-01-15', '2000-01-16',\n",
       "               '2000-01-17', '2000-01-18', '2000-01-19', '2000-01-20',\n",
       "               '2000-01-21', '2000-01-22', '2000-01-23', '2000-01-24',\n",
       "               '2000-01-25', '2000-01-26', '2000-01-27', '2000-01-28',\n",
       "               '2000-01-29', '2000-01-30', '2000-01-31', '2000-02-01',\n",
       "               '2000-02-02', '2000-02-03', '2000-02-04', '2000-02-05',\n",
       "               '2000-02-06', '2000-02-07', '2000-02-08', '2000-02-09',\n",
       "               '2000-02-10', '2000-02-11', '2000-02-12', '2000-02-13',\n",
       "               '2000-02-14', '2000-02-15', '2000-02-16', '2000-02-17',\n",
       "               '2000-02-18', '2000-02-19', '2000-02-20', '2000-02-21',\n",
       "               '2000-02-22', '2000-02-23', '2000-02-24', '2000-02-25',\n",
       "               '2000-02-26', '2000-02-27', '2000-02-28', '2000-02-29',\n",
       "               '2000-03-01', '2000-03-02', '2000-03-03', '2000-03-04',\n",
       "               '2000-03-05', '2000-03-06', '2000-03-07', '2000-03-08',\n",
       "               '2000-03-09', '2000-03-10', '2000-03-11', '2000-03-12',\n",
       "               '2000-03-13', '2000-03-14', '2000-03-15', '2000-03-16',\n",
       "               '2000-03-17', '2000-03-18', '2000-03-19', '2000-03-20',\n",
       "               '2000-03-21', '2000-03-22', '2000-03-23', '2000-03-24',\n",
       "               '2000-03-25', '2000-03-26', '2000-03-27', '2000-03-28',\n",
       "               '2000-03-29', '2000-03-30', '2000-03-31', '2000-04-01',\n",
       "               '2000-04-02', '2000-04-03', '2000-04-04', '2000-04-05',\n",
       "               '2000-04-06', '2000-04-07', '2000-04-08', '2000-04-09'],\n",
       "              dtype='datetime64[ns]', freq='D')"
      ]
     },
     "execution_count": 16,
     "metadata": {},
     "output_type": "execute_result"
    }
   ],
   "source": [
    "rng = pd.date_range(start = \"1/1/2000\", periods = 100, freq = 'D')\n",
    "rng"
   ]
  },
  {
   "cell_type": "markdown",
   "metadata": {},
   "source": [
    "***`resample` is flexible and high-performance method that can be used to process very large time series.***\n"
   ]
  },
  {
   "cell_type": "code",
   "execution_count": 26,
   "metadata": {},
   "outputs": [
    {
     "data": {
      "text/plain": [
       "2000-04-05   -1.112119\n",
       "2000-04-06    1.471476\n",
       "2000-04-07    0.490816\n",
       "2000-04-08   -0.684784\n",
       "2000-04-09    0.752060\n",
       "Freq: D, dtype: float64"
      ]
     },
     "execution_count": 26,
     "metadata": {},
     "output_type": "execute_result"
    }
   ],
   "source": [
    "ts = pd.Series(data = np.random.randn(len(rng)), index = rng)\n",
    "ts[-5:]"
   ]
  },
  {
   "cell_type": "code",
   "execution_count": 27,
   "metadata": {},
   "outputs": [
    {
     "data": {
      "text/plain": [
       "2000-01-31   -0.061276\n",
       "2000-02-29   -0.038543\n",
       "2000-03-31   -0.018196\n",
       "2000-04-30   -0.114165\n",
       "Freq: M, dtype: float64"
      ]
     },
     "execution_count": 27,
     "metadata": {},
     "output_type": "execute_result"
    }
   ],
   "source": [
    "ts.resample(rule = 'M').mean()"
   ]
  },
  {
   "cell_type": "code",
   "execution_count": 28,
   "metadata": {},
   "outputs": [
    {
     "data": {
      "text/plain": [
       "2000-01   -0.061276\n",
       "2000-02   -0.038543\n",
       "2000-03   -0.018196\n",
       "2000-04   -0.114165\n",
       "Freq: M, dtype: float64"
      ]
     },
     "execution_count": 28,
     "metadata": {},
     "output_type": "execute_result"
    }
   ],
   "source": [
    "ts.resample(rule = \"M\", kind = 'period').mean()"
   ]
  },
  {
   "cell_type": "markdown",
   "metadata": {},
   "source": [
    "### Downsampling\n",
    "\n",
    "Aggregating data to regular, lower frequency is a pretty normal time series task.\n",
    "\n",
    "The data you're aggreagting doesn't need to be fixed frequently.\n",
    "\n",
    "The desired frequency defines `bin edges` that are used to slice the time series into pieces to aggregate.\n",
    "\n",
    "To convert to monthly, `M` or `BM`, the data need to be chopped up into one month interval, and the union of intervals must make up the whole time frame.\n",
    "\n",
    "There are a couple things to think about when using `resample` to downsample data:\n",
    " * Which side of each interval is closed\n",
    " * How to lable each aggregated bin, wither with the start of the interval or the end"
   ]
  },
  {
   "cell_type": "code",
   "execution_count": 29,
   "metadata": {},
   "outputs": [
    {
     "data": {
      "text/plain": [
       "DatetimeIndex(['2000-01-01 00:00:00', '2000-01-01 00:01:00',\n",
       "               '2000-01-01 00:02:00', '2000-01-01 00:03:00',\n",
       "               '2000-01-01 00:04:00', '2000-01-01 00:05:00',\n",
       "               '2000-01-01 00:06:00', '2000-01-01 00:07:00',\n",
       "               '2000-01-01 00:08:00', '2000-01-01 00:09:00',\n",
       "               '2000-01-01 00:10:00', '2000-01-01 00:11:00'],\n",
       "              dtype='datetime64[ns]', freq='T')"
      ]
     },
     "execution_count": 29,
     "metadata": {},
     "output_type": "execute_result"
    }
   ],
   "source": [
    "rng = pd.date_range(\"1/1/2000\", periods = 12, freq = 'T')\n",
    "rng"
   ]
  },
  {
   "cell_type": "code",
   "execution_count": 31,
   "metadata": {},
   "outputs": [
    {
     "data": {
      "text/plain": [
       "2000-01-01 00:00:00     0\n",
       "2000-01-01 00:01:00     1\n",
       "2000-01-01 00:02:00     2\n",
       "2000-01-01 00:03:00     3\n",
       "2000-01-01 00:04:00     4\n",
       "2000-01-01 00:05:00     5\n",
       "2000-01-01 00:06:00     6\n",
       "2000-01-01 00:07:00     7\n",
       "2000-01-01 00:08:00     8\n",
       "2000-01-01 00:09:00     9\n",
       "2000-01-01 00:10:00    10\n",
       "2000-01-01 00:11:00    11\n",
       "Freq: T, dtype: int32"
      ]
     },
     "execution_count": 31,
     "metadata": {},
     "output_type": "execute_result"
    }
   ],
   "source": [
    "ts = pd.Series(data = np.arange(12), index = rng)\n",
    "ts"
   ]
  },
  {
   "cell_type": "markdown",
   "metadata": {},
   "source": [
    "Suppose you wanted to aggregate this data into five-minute chucks or bars by taking the sum of each group.\n",
    "\n",
    "The frequency you pass define bin edges in five-minute increments.\n",
    "\n",
    "**The `right bin` edge is inclusive, so the 00:05 value is included in the 00:00 to 00:05 interval.***\n",
    "\n",
    "Passing `closed = 'ledt'` changes the interval to be closed on the left. "
   ]
  },
  {
   "cell_type": "code",
   "execution_count": 44,
   "metadata": {},
   "outputs": [
    {
     "name": "stdout",
     "output_type": "stream",
     "text": [
      "----------Include left bin----------\n",
      "2000-01-01 00:05:00    10\n",
      "2000-01-01 00:10:00    35\n",
      "2000-01-01 00:15:00    21\n",
      "Freq: 5T, dtype: int32\n",
      "----------Include right bin----------\n",
      "2000-01-01 00:00:00     0\n",
      "2000-01-01 00:05:00    15\n",
      "2000-01-01 00:10:00    40\n",
      "2000-01-01 00:15:00    11\n",
      "Freq: 5T, dtype: int32\n"
     ]
    }
   ],
   "source": [
    "print(\"-\"*10 + 'Include left bin' + \"-\"*10)\n",
    "print(ts.resample(rule = '5min', closed = 'left', label = 'right').sum())\n",
    "\n",
    "print(\"-\"*10 + 'Include right bin' + \"-\"*10)\n",
    "print(ts.resample(rule = '5min', closed = 'right', label = 'right').sum())"
   ]
  },
  {
   "cell_type": "markdown",
   "metadata": {},
   "source": [
    "***Lastly, you might want to shift the result index by some amount, say subtracting one second from the right rdge to make it more clear which interval the timestamp refers to.***\n",
    "\n",
    "To do this, pass a string or date offset to `loffset`."
   ]
  },
  {
   "cell_type": "code",
   "execution_count": 46,
   "metadata": {
    "scrolled": true
   },
   "outputs": [
    {
     "data": {
      "text/plain": [
       "2000-01-01 00:04:59    10\n",
       "2000-01-01 00:09:59    35\n",
       "2000-01-01 00:14:59    21\n",
       "Freq: 5T, dtype: int32"
      ]
     },
     "execution_count": 46,
     "metadata": {},
     "output_type": "execute_result"
    }
   ],
   "source": [
    "ts.resample(rule = '5min', loffset = '-1s', label = 'right').sum()"
   ]
  },
  {
   "cell_type": "code",
   "execution_count": 57,
   "metadata": {},
   "outputs": [
    {
     "data": {
      "text/plain": [
       "2000-01-01 00:04:59    10\n",
       "2000-01-01 00:09:59    35\n",
       "2000-01-01 00:14:59    21\n",
       "Freq: 5T, dtype: int32"
      ]
     },
     "execution_count": 57,
     "metadata": {},
     "output_type": "execute_result"
    }
   ],
   "source": [
    "# the same as `loffset`\n",
    "temp = ts.resample(rule = '5min', label = 'right').sum()\n",
    "temp.shift(periods = -1, freq = 's')"
   ]
  },
  {
   "cell_type": "markdown",
   "metadata": {},
   "source": [
    "### Open-Hight-Low-Close (OHLC) resampling\n",
    "\n",
    "In finance, an ubiquitous way to aggregate a time series is to compute four values for each bucket.\n",
    "\n",
    "The first(open), last(close), maximum(hight) and minimal(low) values.\n",
    "\n",
    "By passing `ohlc` method you will obtain a DataFrame having colunms containing these four aggregates, which are efficiently computed in a single sweep of the data.\n",
    "\n",
    "***The default setting of the argument `closed` and `label` are `left`.***"
   ]
  },
  {
   "cell_type": "code",
   "execution_count": 56,
   "metadata": {},
   "outputs": [
    {
     "data": {
      "text/html": [
       "<div>\n",
       "<style scoped>\n",
       "    .dataframe tbody tr th:only-of-type {\n",
       "        vertical-align: middle;\n",
       "    }\n",
       "\n",
       "    .dataframe tbody tr th {\n",
       "        vertical-align: top;\n",
       "    }\n",
       "\n",
       "    .dataframe thead th {\n",
       "        text-align: right;\n",
       "    }\n",
       "</style>\n",
       "<table border=\"1\" class=\"dataframe\">\n",
       "  <thead>\n",
       "    <tr style=\"text-align: right;\">\n",
       "      <th></th>\n",
       "      <th>open</th>\n",
       "      <th>high</th>\n",
       "      <th>low</th>\n",
       "      <th>close</th>\n",
       "    </tr>\n",
       "  </thead>\n",
       "  <tbody>\n",
       "    <tr>\n",
       "      <th>2000-01-01 00:00:00</th>\n",
       "      <td>0</td>\n",
       "      <td>0</td>\n",
       "      <td>0</td>\n",
       "      <td>0</td>\n",
       "    </tr>\n",
       "    <tr>\n",
       "      <th>2000-01-01 00:05:00</th>\n",
       "      <td>1</td>\n",
       "      <td>5</td>\n",
       "      <td>1</td>\n",
       "      <td>5</td>\n",
       "    </tr>\n",
       "    <tr>\n",
       "      <th>2000-01-01 00:10:00</th>\n",
       "      <td>6</td>\n",
       "      <td>10</td>\n",
       "      <td>6</td>\n",
       "      <td>10</td>\n",
       "    </tr>\n",
       "    <tr>\n",
       "      <th>2000-01-01 00:15:00</th>\n",
       "      <td>11</td>\n",
       "      <td>11</td>\n",
       "      <td>11</td>\n",
       "      <td>11</td>\n",
       "    </tr>\n",
       "  </tbody>\n",
       "</table>\n",
       "</div>"
      ],
      "text/plain": [
       "                     open  high  low  close\n",
       "2000-01-01 00:00:00     0     0    0      0\n",
       "2000-01-01 00:05:00     1     5    1      5\n",
       "2000-01-01 00:10:00     6    10    6     10\n",
       "2000-01-01 00:15:00    11    11   11     11"
      ]
     },
     "execution_count": 56,
     "metadata": {},
     "output_type": "execute_result"
    }
   ],
   "source": [
    "ts.resample(rule = '5min', closed = 'right', label = 'right').ohlc()"
   ]
  },
  {
   "cell_type": "code",
   "execution_count": 60,
   "metadata": {},
   "outputs": [
    {
     "data": {
      "text/html": [
       "<div>\n",
       "<style scoped>\n",
       "    .dataframe tbody tr th:only-of-type {\n",
       "        vertical-align: middle;\n",
       "    }\n",
       "\n",
       "    .dataframe tbody tr th {\n",
       "        vertical-align: top;\n",
       "    }\n",
       "\n",
       "    .dataframe thead th {\n",
       "        text-align: right;\n",
       "    }\n",
       "</style>\n",
       "<table border=\"1\" class=\"dataframe\">\n",
       "  <thead>\n",
       "    <tr style=\"text-align: right;\">\n",
       "      <th></th>\n",
       "      <th>open</th>\n",
       "      <th>high</th>\n",
       "      <th>low</th>\n",
       "      <th>close</th>\n",
       "    </tr>\n",
       "  </thead>\n",
       "  <tbody>\n",
       "    <tr>\n",
       "      <th>2000-01-01 00:00:00</th>\n",
       "      <td>0</td>\n",
       "      <td>4</td>\n",
       "      <td>0</td>\n",
       "      <td>4</td>\n",
       "    </tr>\n",
       "    <tr>\n",
       "      <th>2000-01-01 00:05:00</th>\n",
       "      <td>5</td>\n",
       "      <td>9</td>\n",
       "      <td>5</td>\n",
       "      <td>9</td>\n",
       "    </tr>\n",
       "    <tr>\n",
       "      <th>2000-01-01 00:10:00</th>\n",
       "      <td>10</td>\n",
       "      <td>11</td>\n",
       "      <td>10</td>\n",
       "      <td>11</td>\n",
       "    </tr>\n",
       "  </tbody>\n",
       "</table>\n",
       "</div>"
      ],
      "text/plain": [
       "                     open  high  low  close\n",
       "2000-01-01 00:00:00     0     4    0      4\n",
       "2000-01-01 00:05:00     5     9    5      9\n",
       "2000-01-01 00:10:00    10    11   10     11"
      ]
     },
     "execution_count": 60,
     "metadata": {},
     "output_type": "execute_result"
    }
   ],
   "source": [
    "ts.resample(rule = '5min', closed = 'left', label = 'left').ohlc()"
   ]
  },
  {
   "cell_type": "markdown",
   "metadata": {},
   "source": [
    "### Resampling with Groupby\n",
    "\n",
    "An alternate way to downsample is to use pandas's `groupby` functionality.\n",
    "\n",
    "***You can groupy by month or weekday by passing a function that accesses those fields on the time series's index.***"
   ]
  },
  {
   "cell_type": "code",
   "execution_count": 63,
   "metadata": {},
   "outputs": [
    {
     "data": {
      "text/plain": [
       "2000-04-05   -0.308973\n",
       "2000-04-06   -2.553502\n",
       "2000-04-07   -0.640615\n",
       "2000-04-08   -0.622610\n",
       "2000-04-09   -2.055125\n",
       "Freq: D, dtype: float64"
      ]
     },
     "execution_count": 63,
     "metadata": {},
     "output_type": "execute_result"
    }
   ],
   "source": [
    "rng = pd.date_range('1/1/2000', periods = 100, freq = 'D')\n",
    "ts = pd.Series(data = np.random.randn(len(rng)), index = rng)\n",
    "ts[-5:]"
   ]
  },
  {
   "cell_type": "code",
   "execution_count": 73,
   "metadata": {},
   "outputs": [
    {
     "name": "stdout",
     "output_type": "stream",
     "text": [
      "-------------------------Groupby by month-------------------------\n",
      "1   -0.305493\n",
      "2   -0.259156\n",
      "3   -0.178189\n",
      "4   -0.646620\n",
      "dtype: float64\n",
      "-------------------------Groupby by weekday-------------------------\n",
      "0   -0.072834\n",
      "1   -0.339848\n",
      "2   -0.320626\n",
      "3   -0.591824\n",
      "4   -0.000057\n",
      "5   -0.648066\n",
      "6   -0.003707\n",
      "dtype: float64\n"
     ]
    }
   ],
   "source": [
    "print('-'*25 + 'Groupby by month' + '-'*25)\n",
    "print(ts.groupby(lambda x: x.month).mean())\n",
    "print('-'*25 + 'Groupby by weekday' + '-'*25)\n",
    "print(ts.groupby(lambda x: x.weekday).mean())"
   ]
  },
  {
   "cell_type": "code",
   "execution_count": 71,
   "metadata": {},
   "outputs": [
    {
     "data": {
      "text/plain": [
       "2000-01-31   -0.305493\n",
       "2000-02-29   -0.259156\n",
       "2000-03-31   -0.178189\n",
       "2000-04-30   -0.646620\n",
       "Freq: M, dtype: float64"
      ]
     },
     "execution_count": 71,
     "metadata": {},
     "output_type": "execute_result"
    }
   ],
   "source": [
    "ts.resample(rule = 'M').mean()"
   ]
  },
  {
   "cell_type": "markdown",
   "metadata": {},
   "source": [
    "### Unsampling and Interpolation\n",
    "\n",
    "When converting from a low frequency to a highter frequency, no aggregation is needed."
   ]
  },
  {
   "cell_type": "code",
   "execution_count": 96,
   "metadata": {},
   "outputs": [
    {
     "data": {
      "text/html": [
       "<div>\n",
       "<style scoped>\n",
       "    .dataframe tbody tr th:only-of-type {\n",
       "        vertical-align: middle;\n",
       "    }\n",
       "\n",
       "    .dataframe tbody tr th {\n",
       "        vertical-align: top;\n",
       "    }\n",
       "\n",
       "    .dataframe thead th {\n",
       "        text-align: right;\n",
       "    }\n",
       "</style>\n",
       "<table border=\"1\" class=\"dataframe\">\n",
       "  <thead>\n",
       "    <tr style=\"text-align: right;\">\n",
       "      <th></th>\n",
       "      <th>Colorado</th>\n",
       "      <th>Texas</th>\n",
       "      <th>New York</th>\n",
       "      <th>Ohio</th>\n",
       "    </tr>\n",
       "  </thead>\n",
       "  <tbody>\n",
       "    <tr>\n",
       "      <th>2000-01-05</th>\n",
       "      <td>-1.307641</td>\n",
       "      <td>-0.197518</td>\n",
       "      <td>0.10100</td>\n",
       "      <td>-1.125414</td>\n",
       "    </tr>\n",
       "    <tr>\n",
       "      <th>2000-01-12</th>\n",
       "      <td>-0.583116</td>\n",
       "      <td>-1.157085</td>\n",
       "      <td>-0.46385</td>\n",
       "      <td>0.707580</td>\n",
       "    </tr>\n",
       "  </tbody>\n",
       "</table>\n",
       "</div>"
      ],
      "text/plain": [
       "            Colorado     Texas  New York      Ohio\n",
       "2000-01-05 -1.307641 -0.197518   0.10100 -1.125414\n",
       "2000-01-12 -0.583116 -1.157085  -0.46385  0.707580"
      ]
     },
     "execution_count": 96,
     "metadata": {},
     "output_type": "execute_result"
    }
   ],
   "source": [
    "frame = pd.DataFrame(data = np.random.randn(2, 4), \n",
    "                     index = pd.date_range('2000', periods = 2, freq = 'W-WED'),\n",
    "                     columns = ['Colorado', 'Texas', 'New York', 'Ohio'])\n",
    "frame[-2:]"
   ]
  },
  {
   "cell_type": "markdown",
   "metadata": {},
   "source": [
    "Suppose you wanted to fill forward each weekly value on the non-Wednesday.\n",
    "\n",
    "***The same filling or interpolation methods available in `fillna` and `reindex` methods are available for resampling.***"
   ]
  },
  {
   "cell_type": "code",
   "execution_count": 97,
   "metadata": {},
   "outputs": [
    {
     "name": "stdout",
     "output_type": "stream",
     "text": [
      "            Colorado     Texas  New York      Ohio\n",
      "2000-01-05 -1.307641 -0.197518   0.10100 -1.125414\n",
      "2000-01-06       NaN       NaN       NaN       NaN\n",
      "2000-01-07       NaN       NaN       NaN       NaN\n",
      "2000-01-08       NaN       NaN       NaN       NaN\n",
      "2000-01-09       NaN       NaN       NaN       NaN\n",
      "2000-01-10       NaN       NaN       NaN       NaN\n",
      "2000-01-11       NaN       NaN       NaN       NaN\n",
      "2000-01-12 -0.583116 -1.157085  -0.46385  0.707580\n",
      "            Colorado     Texas  New York      Ohio\n",
      "2000-01-05 -1.307641 -0.197518   0.10100 -1.125414\n",
      "2000-01-06 -1.307641 -0.197518   0.10100 -1.125414\n",
      "2000-01-07 -1.307641 -0.197518   0.10100 -1.125414\n",
      "2000-01-08 -1.307641 -0.197518   0.10100 -1.125414\n",
      "2000-01-09 -1.307641 -0.197518   0.10100 -1.125414\n",
      "2000-01-10 -1.307641 -0.197518   0.10100 -1.125414\n",
      "2000-01-11 -1.307641 -0.197518   0.10100 -1.125414\n",
      "2000-01-12 -0.583116 -1.157085  -0.46385  0.707580\n"
     ]
    }
   ],
   "source": [
    "df_daily = frame.resample('D').asfreq()\n",
    "print(df_daily)\n",
    "\n",
    "df_daily1 = frame.resample('D').ffill()\n",
    "print(df_daily1)"
   ]
  },
  {
   "cell_type": "code",
   "execution_count": 98,
   "metadata": {},
   "outputs": [
    {
     "data": {
      "text/html": [
       "<div>\n",
       "<style scoped>\n",
       "    .dataframe tbody tr th:only-of-type {\n",
       "        vertical-align: middle;\n",
       "    }\n",
       "\n",
       "    .dataframe tbody tr th {\n",
       "        vertical-align: top;\n",
       "    }\n",
       "\n",
       "    .dataframe thead th {\n",
       "        text-align: right;\n",
       "    }\n",
       "</style>\n",
       "<table border=\"1\" class=\"dataframe\">\n",
       "  <thead>\n",
       "    <tr style=\"text-align: right;\">\n",
       "      <th></th>\n",
       "      <th>Colorado</th>\n",
       "      <th>Texas</th>\n",
       "      <th>New York</th>\n",
       "      <th>Ohio</th>\n",
       "    </tr>\n",
       "  </thead>\n",
       "  <tbody>\n",
       "    <tr>\n",
       "      <th>2000-01-05</th>\n",
       "      <td>-1.307641</td>\n",
       "      <td>-0.197518</td>\n",
       "      <td>0.10100</td>\n",
       "      <td>-1.125414</td>\n",
       "    </tr>\n",
       "    <tr>\n",
       "      <th>2000-01-06</th>\n",
       "      <td>-1.307641</td>\n",
       "      <td>-0.197518</td>\n",
       "      <td>0.10100</td>\n",
       "      <td>-1.125414</td>\n",
       "    </tr>\n",
       "    <tr>\n",
       "      <th>2000-01-07</th>\n",
       "      <td>-1.307641</td>\n",
       "      <td>-0.197518</td>\n",
       "      <td>0.10100</td>\n",
       "      <td>-1.125414</td>\n",
       "    </tr>\n",
       "    <tr>\n",
       "      <th>2000-01-08</th>\n",
       "      <td>-1.307641</td>\n",
       "      <td>-0.197518</td>\n",
       "      <td>0.10100</td>\n",
       "      <td>-1.125414</td>\n",
       "    </tr>\n",
       "    <tr>\n",
       "      <th>2000-01-09</th>\n",
       "      <td>-1.307641</td>\n",
       "      <td>-0.197518</td>\n",
       "      <td>0.10100</td>\n",
       "      <td>-1.125414</td>\n",
       "    </tr>\n",
       "    <tr>\n",
       "      <th>2000-01-10</th>\n",
       "      <td>-1.307641</td>\n",
       "      <td>-0.197518</td>\n",
       "      <td>0.10100</td>\n",
       "      <td>-1.125414</td>\n",
       "    </tr>\n",
       "    <tr>\n",
       "      <th>2000-01-11</th>\n",
       "      <td>-1.307641</td>\n",
       "      <td>-0.197518</td>\n",
       "      <td>0.10100</td>\n",
       "      <td>-1.125414</td>\n",
       "    </tr>\n",
       "    <tr>\n",
       "      <th>2000-01-12</th>\n",
       "      <td>-0.583116</td>\n",
       "      <td>-1.157085</td>\n",
       "      <td>-0.46385</td>\n",
       "      <td>0.707580</td>\n",
       "    </tr>\n",
       "  </tbody>\n",
       "</table>\n",
       "</div>"
      ],
      "text/plain": [
       "            Colorado     Texas  New York      Ohio\n",
       "2000-01-05 -1.307641 -0.197518   0.10100 -1.125414\n",
       "2000-01-06 -1.307641 -0.197518   0.10100 -1.125414\n",
       "2000-01-07 -1.307641 -0.197518   0.10100 -1.125414\n",
       "2000-01-08 -1.307641 -0.197518   0.10100 -1.125414\n",
       "2000-01-09 -1.307641 -0.197518   0.10100 -1.125414\n",
       "2000-01-10 -1.307641 -0.197518   0.10100 -1.125414\n",
       "2000-01-11 -1.307641 -0.197518   0.10100 -1.125414\n",
       "2000-01-12 -0.583116 -1.157085  -0.46385  0.707580"
      ]
     },
     "execution_count": 98,
     "metadata": {},
     "output_type": "execute_result"
    }
   ],
   "source": [
    "df_daily.fillna(method = 'ffill') # forward fill, `bfill` => backward fill"
   ]
  },
  {
   "cell_type": "code",
   "execution_count": 100,
   "metadata": {},
   "outputs": [
    {
     "data": {
      "text/html": [
       "<div>\n",
       "<style scoped>\n",
       "    .dataframe tbody tr th:only-of-type {\n",
       "        vertical-align: middle;\n",
       "    }\n",
       "\n",
       "    .dataframe tbody tr th {\n",
       "        vertical-align: top;\n",
       "    }\n",
       "\n",
       "    .dataframe thead th {\n",
       "        text-align: right;\n",
       "    }\n",
       "</style>\n",
       "<table border=\"1\" class=\"dataframe\">\n",
       "  <thead>\n",
       "    <tr style=\"text-align: right;\">\n",
       "      <th></th>\n",
       "      <th>Colorado</th>\n",
       "      <th>Texas</th>\n",
       "      <th>New York</th>\n",
       "      <th>Ohio</th>\n",
       "    </tr>\n",
       "  </thead>\n",
       "  <tbody>\n",
       "    <tr>\n",
       "      <th>2000-01-05</th>\n",
       "      <td>-1.307641</td>\n",
       "      <td>-0.197518</td>\n",
       "      <td>0.10100</td>\n",
       "      <td>-1.125414</td>\n",
       "    </tr>\n",
       "    <tr>\n",
       "      <th>2000-01-06</th>\n",
       "      <td>-0.583116</td>\n",
       "      <td>-1.157085</td>\n",
       "      <td>-0.46385</td>\n",
       "      <td>0.707580</td>\n",
       "    </tr>\n",
       "    <tr>\n",
       "      <th>2000-01-07</th>\n",
       "      <td>-0.583116</td>\n",
       "      <td>-1.157085</td>\n",
       "      <td>-0.46385</td>\n",
       "      <td>0.707580</td>\n",
       "    </tr>\n",
       "    <tr>\n",
       "      <th>2000-01-08</th>\n",
       "      <td>-0.583116</td>\n",
       "      <td>-1.157085</td>\n",
       "      <td>-0.46385</td>\n",
       "      <td>0.707580</td>\n",
       "    </tr>\n",
       "    <tr>\n",
       "      <th>2000-01-09</th>\n",
       "      <td>-0.583116</td>\n",
       "      <td>-1.157085</td>\n",
       "      <td>-0.46385</td>\n",
       "      <td>0.707580</td>\n",
       "    </tr>\n",
       "    <tr>\n",
       "      <th>2000-01-10</th>\n",
       "      <td>-0.583116</td>\n",
       "      <td>-1.157085</td>\n",
       "      <td>-0.46385</td>\n",
       "      <td>0.707580</td>\n",
       "    </tr>\n",
       "    <tr>\n",
       "      <th>2000-01-11</th>\n",
       "      <td>-0.583116</td>\n",
       "      <td>-1.157085</td>\n",
       "      <td>-0.46385</td>\n",
       "      <td>0.707580</td>\n",
       "    </tr>\n",
       "    <tr>\n",
       "      <th>2000-01-12</th>\n",
       "      <td>-0.583116</td>\n",
       "      <td>-1.157085</td>\n",
       "      <td>-0.46385</td>\n",
       "      <td>0.707580</td>\n",
       "    </tr>\n",
       "  </tbody>\n",
       "</table>\n",
       "</div>"
      ],
      "text/plain": [
       "            Colorado     Texas  New York      Ohio\n",
       "2000-01-05 -1.307641 -0.197518   0.10100 -1.125414\n",
       "2000-01-06 -0.583116 -1.157085  -0.46385  0.707580\n",
       "2000-01-07 -0.583116 -1.157085  -0.46385  0.707580\n",
       "2000-01-08 -0.583116 -1.157085  -0.46385  0.707580\n",
       "2000-01-09 -0.583116 -1.157085  -0.46385  0.707580\n",
       "2000-01-10 -0.583116 -1.157085  -0.46385  0.707580\n",
       "2000-01-11 -0.583116 -1.157085  -0.46385  0.707580\n",
       "2000-01-12 -0.583116 -1.157085  -0.46385  0.707580"
      ]
     },
     "execution_count": 100,
     "metadata": {},
     "output_type": "execute_result"
    }
   ],
   "source": [
    "frame.resample('D').bfill()"
   ]
  },
  {
   "cell_type": "markdown",
   "metadata": {},
   "source": [
    "You can similarly choose to only fill a certain number of periods forward to limit how far to continue using an observed value."
   ]
  },
  {
   "cell_type": "code",
   "execution_count": 106,
   "metadata": {},
   "outputs": [
    {
     "data": {
      "text/html": [
       "<div>\n",
       "<style scoped>\n",
       "    .dataframe tbody tr th:only-of-type {\n",
       "        vertical-align: middle;\n",
       "    }\n",
       "\n",
       "    .dataframe tbody tr th {\n",
       "        vertical-align: top;\n",
       "    }\n",
       "\n",
       "    .dataframe thead th {\n",
       "        text-align: right;\n",
       "    }\n",
       "</style>\n",
       "<table border=\"1\" class=\"dataframe\">\n",
       "  <thead>\n",
       "    <tr style=\"text-align: right;\">\n",
       "      <th></th>\n",
       "      <th>Colorado</th>\n",
       "      <th>Texas</th>\n",
       "      <th>New York</th>\n",
       "      <th>Ohio</th>\n",
       "    </tr>\n",
       "  </thead>\n",
       "  <tbody>\n",
       "    <tr>\n",
       "      <th>2000-01-05</th>\n",
       "      <td>-1.307641</td>\n",
       "      <td>-0.197518</td>\n",
       "      <td>0.10100</td>\n",
       "      <td>-1.125414</td>\n",
       "    </tr>\n",
       "    <tr>\n",
       "      <th>2000-01-06</th>\n",
       "      <td>-1.307641</td>\n",
       "      <td>-0.197518</td>\n",
       "      <td>0.10100</td>\n",
       "      <td>-1.125414</td>\n",
       "    </tr>\n",
       "    <tr>\n",
       "      <th>2000-01-07</th>\n",
       "      <td>-1.307641</td>\n",
       "      <td>-0.197518</td>\n",
       "      <td>0.10100</td>\n",
       "      <td>-1.125414</td>\n",
       "    </tr>\n",
       "    <tr>\n",
       "      <th>2000-01-08</th>\n",
       "      <td>NaN</td>\n",
       "      <td>NaN</td>\n",
       "      <td>NaN</td>\n",
       "      <td>NaN</td>\n",
       "    </tr>\n",
       "    <tr>\n",
       "      <th>2000-01-09</th>\n",
       "      <td>NaN</td>\n",
       "      <td>NaN</td>\n",
       "      <td>NaN</td>\n",
       "      <td>NaN</td>\n",
       "    </tr>\n",
       "    <tr>\n",
       "      <th>2000-01-10</th>\n",
       "      <td>NaN</td>\n",
       "      <td>NaN</td>\n",
       "      <td>NaN</td>\n",
       "      <td>NaN</td>\n",
       "    </tr>\n",
       "    <tr>\n",
       "      <th>2000-01-11</th>\n",
       "      <td>NaN</td>\n",
       "      <td>NaN</td>\n",
       "      <td>NaN</td>\n",
       "      <td>NaN</td>\n",
       "    </tr>\n",
       "    <tr>\n",
       "      <th>2000-01-12</th>\n",
       "      <td>-0.583116</td>\n",
       "      <td>-1.157085</td>\n",
       "      <td>-0.46385</td>\n",
       "      <td>0.707580</td>\n",
       "    </tr>\n",
       "  </tbody>\n",
       "</table>\n",
       "</div>"
      ],
      "text/plain": [
       "            Colorado     Texas  New York      Ohio\n",
       "2000-01-05 -1.307641 -0.197518   0.10100 -1.125414\n",
       "2000-01-06 -1.307641 -0.197518   0.10100 -1.125414\n",
       "2000-01-07 -1.307641 -0.197518   0.10100 -1.125414\n",
       "2000-01-08       NaN       NaN       NaN       NaN\n",
       "2000-01-09       NaN       NaN       NaN       NaN\n",
       "2000-01-10       NaN       NaN       NaN       NaN\n",
       "2000-01-11       NaN       NaN       NaN       NaN\n",
       "2000-01-12 -0.583116 -1.157085  -0.46385  0.707580"
      ]
     },
     "execution_count": 106,
     "metadata": {},
     "output_type": "execute_result"
    }
   ],
   "source": [
    "temp = frame.resample('D')\n",
    "temp.ffill(limit = 2)"
   ]
  },
  {
   "cell_type": "code",
   "execution_count": 114,
   "metadata": {},
   "outputs": [
    {
     "name": "stdout",
     "output_type": "stream",
     "text": [
      "            Colorado  Texas  New York  Ohio\n",
      "2000-01-06       NaN    NaN       NaN   NaN\n",
      "2000-01-13       NaN    NaN       NaN   NaN\n",
      "-------------------------forward fill-------------------------\n",
      "            Colorado     Texas  New York      Ohio\n",
      "2000-01-06 -1.307641 -0.197518   0.10100 -1.125414\n",
      "2000-01-13 -0.583116 -1.157085  -0.46385  0.707580\n",
      "-------------------------backward fill-------------------------\n",
      "            Colorado     Texas  New York      Ohio\n",
      "2000-01-06 -1.307641 -0.197518   0.10100 -1.125414\n",
      "2000-01-13 -0.583116 -1.157085  -0.46385  0.707580\n"
     ]
    }
   ],
   "source": [
    "print(frame.resample('W-THU').asfreq())\n",
    "print(\"-\"*25 + 'forward fill' + \"-\"*25)\n",
    "print(frame.resample('W-THU').ffill())\n",
    "print(\"-\"*25 + 'backward fill' + \"-\"*25)\n",
    "print(frame.resample('W-THU').ffill())"
   ]
  },
  {
   "cell_type": "markdown",
   "metadata": {},
   "source": [
    "### Resampling with Periods"
   ]
  },
  {
   "cell_type": "code",
   "execution_count": 115,
   "metadata": {},
   "outputs": [
    {
     "data": {
      "text/html": [
       "<div>\n",
       "<style scoped>\n",
       "    .dataframe tbody tr th:only-of-type {\n",
       "        vertical-align: middle;\n",
       "    }\n",
       "\n",
       "    .dataframe tbody tr th {\n",
       "        vertical-align: top;\n",
       "    }\n",
       "\n",
       "    .dataframe thead th {\n",
       "        text-align: right;\n",
       "    }\n",
       "</style>\n",
       "<table border=\"1\" class=\"dataframe\">\n",
       "  <thead>\n",
       "    <tr style=\"text-align: right;\">\n",
       "      <th></th>\n",
       "      <th>Colorado</th>\n",
       "      <th>Texas</th>\n",
       "      <th>New York</th>\n",
       "      <th>Ohio</th>\n",
       "    </tr>\n",
       "  </thead>\n",
       "  <tbody>\n",
       "    <tr>\n",
       "      <th>2001-08</th>\n",
       "      <td>1.005887</td>\n",
       "      <td>0.679286</td>\n",
       "      <td>1.683586</td>\n",
       "      <td>0.391133</td>\n",
       "    </tr>\n",
       "    <tr>\n",
       "      <th>2001-09</th>\n",
       "      <td>-0.096964</td>\n",
       "      <td>1.868700</td>\n",
       "      <td>-1.291807</td>\n",
       "      <td>0.336039</td>\n",
       "    </tr>\n",
       "    <tr>\n",
       "      <th>2001-10</th>\n",
       "      <td>1.691563</td>\n",
       "      <td>-0.279104</td>\n",
       "      <td>0.333957</td>\n",
       "      <td>-1.534573</td>\n",
       "    </tr>\n",
       "    <tr>\n",
       "      <th>2001-11</th>\n",
       "      <td>0.042129</td>\n",
       "      <td>0.250567</td>\n",
       "      <td>-0.209731</td>\n",
       "      <td>1.328601</td>\n",
       "    </tr>\n",
       "    <tr>\n",
       "      <th>2001-12</th>\n",
       "      <td>0.965988</td>\n",
       "      <td>0.412535</td>\n",
       "      <td>-0.814272</td>\n",
       "      <td>-0.729255</td>\n",
       "    </tr>\n",
       "  </tbody>\n",
       "</table>\n",
       "</div>"
      ],
      "text/plain": [
       "         Colorado     Texas  New York      Ohio\n",
       "2001-08  1.005887  0.679286  1.683586  0.391133\n",
       "2001-09 -0.096964  1.868700 -1.291807  0.336039\n",
       "2001-10  1.691563 -0.279104  0.333957 -1.534573\n",
       "2001-11  0.042129  0.250567 -0.209731  1.328601\n",
       "2001-12  0.965988  0.412535 -0.814272 -0.729255"
      ]
     },
     "execution_count": 115,
     "metadata": {},
     "output_type": "execute_result"
    }
   ],
   "source": [
    "frame = pd.DataFrame(np.random.randn(24, 4), \n",
    "                     index=pd.period_range('1-2000', '12-2001', freq='M'), \n",
    "                     columns=['Colorado', 'Texas', 'New York', 'Ohio'])\n",
    "frame[-5:]"
   ]
  },
  {
   "cell_type": "code",
   "execution_count": 116,
   "metadata": {},
   "outputs": [
    {
     "data": {
      "text/html": [
       "<div>\n",
       "<style scoped>\n",
       "    .dataframe tbody tr th:only-of-type {\n",
       "        vertical-align: middle;\n",
       "    }\n",
       "\n",
       "    .dataframe tbody tr th {\n",
       "        vertical-align: top;\n",
       "    }\n",
       "\n",
       "    .dataframe thead th {\n",
       "        text-align: right;\n",
       "    }\n",
       "</style>\n",
       "<table border=\"1\" class=\"dataframe\">\n",
       "  <thead>\n",
       "    <tr style=\"text-align: right;\">\n",
       "      <th></th>\n",
       "      <th>Colorado</th>\n",
       "      <th>Texas</th>\n",
       "      <th>New York</th>\n",
       "      <th>Ohio</th>\n",
       "    </tr>\n",
       "  </thead>\n",
       "  <tbody>\n",
       "    <tr>\n",
       "      <th>2000</th>\n",
       "      <td>-0.097080</td>\n",
       "      <td>-0.128213</td>\n",
       "      <td>-0.630757</td>\n",
       "      <td>0.260586</td>\n",
       "    </tr>\n",
       "    <tr>\n",
       "      <th>2001</th>\n",
       "      <td>0.355655</td>\n",
       "      <td>0.597431</td>\n",
       "      <td>0.026471</td>\n",
       "      <td>0.095409</td>\n",
       "    </tr>\n",
       "  </tbody>\n",
       "</table>\n",
       "</div>"
      ],
      "text/plain": [
       "      Colorado     Texas  New York      Ohio\n",
       "2000 -0.097080 -0.128213 -0.630757  0.260586\n",
       "2001  0.355655  0.597431  0.026471  0.095409"
      ]
     },
     "execution_count": 116,
     "metadata": {},
     "output_type": "execute_result"
    }
   ],
   "source": [
    "annual_frame = frame.resample(rule = \"A-DEC\").mean()\n",
    "annual_frame"
   ]
  },
  {
   "cell_type": "markdown",
   "metadata": {},
   "source": [
    "Upsampling is more nuanced as you must make a decision about which end of the timespan in the new frequency to place the value before resampling, just like the `asfreq` method."
   ]
  },
  {
   "cell_type": "code",
   "execution_count": 126,
   "metadata": {},
   "outputs": [
    {
     "name": "stdout",
     "output_type": "stream",
     "text": [
      "--------------------convention = \"start\"--------------------\n",
      "        Colorado     Texas  New York      Ohio\n",
      "2000Q1 -0.097080 -0.128213 -0.630757  0.260586\n",
      "2000Q2 -0.097080 -0.128213 -0.630757  0.260586\n",
      "2000Q3 -0.097080 -0.128213 -0.630757  0.260586\n",
      "2000Q4 -0.097080 -0.128213 -0.630757  0.260586\n",
      "2001Q1  0.355655  0.597431  0.026471  0.095409\n",
      "2001Q2  0.355655  0.597431  0.026471  0.095409\n",
      "2001Q3  0.355655  0.597431  0.026471  0.095409\n",
      "2001Q4  0.355655  0.597431  0.026471  0.095409\n",
      "--------------------convention = \"start\"--------------------\n",
      "        Colorado     Texas  New York      Ohio\n",
      "2000Q4 -0.097080 -0.128213 -0.630757  0.260586\n",
      "2001Q1 -0.097080 -0.128213 -0.630757  0.260586\n",
      "2001Q2 -0.097080 -0.128213 -0.630757  0.260586\n",
      "2001Q3 -0.097080 -0.128213 -0.630757  0.260586\n",
      "2001Q4  0.355655  0.597431  0.026471  0.095409\n"
     ]
    }
   ],
   "source": [
    "# Q-DEC : Quarterly, year ending in Decmber\n",
    "print(\"-\"*20 + 'convention = \"start\"' + \"-\"*20)\n",
    "print(annual_frame.resample(rule = 'Q-DEC', convention = 'start').ffill())\n",
    "print(\"-\"*20 + 'convention = \"start\"' + \"-\"*20)\n",
    "print(annual_frame.resample(rule = 'Q-DEC', convention = 'end').ffill())"
   ]
  },
  {
   "cell_type": "markdown",
   "metadata": {},
   "source": [
    "Since periods refer to timespans, the rules about upsampling and downsampling are more rigid:\n",
    "\n",
    " * ***In downsampling, the target frequency must be a subperiod of the source frequency.***\n",
    " * ***In upsampling, the target frequency must be a superpriod of the source frequency.***"
   ]
  },
  {
   "cell_type": "code",
   "execution_count": 133,
   "metadata": {},
   "outputs": [
    {
     "data": {
      "text/html": [
       "<div>\n",
       "<style scoped>\n",
       "    .dataframe tbody tr th:only-of-type {\n",
       "        vertical-align: middle;\n",
       "    }\n",
       "\n",
       "    .dataframe tbody tr th {\n",
       "        vertical-align: top;\n",
       "    }\n",
       "\n",
       "    .dataframe thead th {\n",
       "        text-align: right;\n",
       "    }\n",
       "</style>\n",
       "<table border=\"1\" class=\"dataframe\">\n",
       "  <thead>\n",
       "    <tr style=\"text-align: right;\">\n",
       "      <th></th>\n",
       "      <th>Colorado</th>\n",
       "      <th>Texas</th>\n",
       "      <th>New York</th>\n",
       "      <th>Ohio</th>\n",
       "    </tr>\n",
       "  </thead>\n",
       "  <tbody>\n",
       "    <tr>\n",
       "      <th>2000Q4</th>\n",
       "      <td>-0.097080</td>\n",
       "      <td>-0.128213</td>\n",
       "      <td>-0.630757</td>\n",
       "      <td>0.260586</td>\n",
       "    </tr>\n",
       "    <tr>\n",
       "      <th>2001Q1</th>\n",
       "      <td>-0.097080</td>\n",
       "      <td>-0.128213</td>\n",
       "      <td>-0.630757</td>\n",
       "      <td>0.260586</td>\n",
       "    </tr>\n",
       "    <tr>\n",
       "      <th>2001Q2</th>\n",
       "      <td>-0.097080</td>\n",
       "      <td>-0.128213</td>\n",
       "      <td>-0.630757</td>\n",
       "      <td>0.260586</td>\n",
       "    </tr>\n",
       "    <tr>\n",
       "      <th>2001Q3</th>\n",
       "      <td>-0.097080</td>\n",
       "      <td>-0.128213</td>\n",
       "      <td>-0.630757</td>\n",
       "      <td>0.260586</td>\n",
       "    </tr>\n",
       "    <tr>\n",
       "      <th>2001Q4</th>\n",
       "      <td>0.355655</td>\n",
       "      <td>0.597431</td>\n",
       "      <td>0.026471</td>\n",
       "      <td>0.095409</td>\n",
       "    </tr>\n",
       "    <tr>\n",
       "      <th>2002Q1</th>\n",
       "      <td>0.355655</td>\n",
       "      <td>0.597431</td>\n",
       "      <td>0.026471</td>\n",
       "      <td>0.095409</td>\n",
       "    </tr>\n",
       "    <tr>\n",
       "      <th>2002Q2</th>\n",
       "      <td>0.355655</td>\n",
       "      <td>0.597431</td>\n",
       "      <td>0.026471</td>\n",
       "      <td>0.095409</td>\n",
       "    </tr>\n",
       "    <tr>\n",
       "      <th>2002Q3</th>\n",
       "      <td>0.355655</td>\n",
       "      <td>0.597431</td>\n",
       "      <td>0.026471</td>\n",
       "      <td>0.095409</td>\n",
       "    </tr>\n",
       "  </tbody>\n",
       "</table>\n",
       "</div>"
      ],
      "text/plain": [
       "        Colorado     Texas  New York      Ohio\n",
       "2000Q4 -0.097080 -0.128213 -0.630757  0.260586\n",
       "2001Q1 -0.097080 -0.128213 -0.630757  0.260586\n",
       "2001Q2 -0.097080 -0.128213 -0.630757  0.260586\n",
       "2001Q3 -0.097080 -0.128213 -0.630757  0.260586\n",
       "2001Q4  0.355655  0.597431  0.026471  0.095409\n",
       "2002Q1  0.355655  0.597431  0.026471  0.095409\n",
       "2002Q2  0.355655  0.597431  0.026471  0.095409\n",
       "2002Q3  0.355655  0.597431  0.026471  0.095409"
      ]
     },
     "execution_count": 133,
     "metadata": {},
     "output_type": "execute_result"
    }
   ],
   "source": [
    "# The original index start from 1-2000, so the index after transforming will start from 2000Q4. \n",
    "annual_frame.resample('Q-MAR').ffill()"
   ]
  },
  {
   "cell_type": "markdown",
   "metadata": {},
   "source": [
    "### Time Series Plotting"
   ]
  },
  {
   "cell_type": "code",
   "execution_count": 3,
   "metadata": {},
   "outputs": [
    {
     "data": {
      "text/html": [
       "<div>\n",
       "<style scoped>\n",
       "    .dataframe tbody tr th:only-of-type {\n",
       "        vertical-align: middle;\n",
       "    }\n",
       "\n",
       "    .dataframe tbody tr th {\n",
       "        vertical-align: top;\n",
       "    }\n",
       "\n",
       "    .dataframe thead th {\n",
       "        text-align: right;\n",
       "    }\n",
       "</style>\n",
       "<table border=\"1\" class=\"dataframe\">\n",
       "  <thead>\n",
       "    <tr style=\"text-align: right;\">\n",
       "      <th></th>\n",
       "      <th>AA</th>\n",
       "      <th>AAPL</th>\n",
       "      <th>GE</th>\n",
       "      <th>IBM</th>\n",
       "      <th>JNJ</th>\n",
       "      <th>MSFT</th>\n",
       "      <th>PEP</th>\n",
       "      <th>SPX</th>\n",
       "      <th>XOM</th>\n",
       "    </tr>\n",
       "  </thead>\n",
       "  <tbody>\n",
       "    <tr>\n",
       "      <th>1990-02-01</th>\n",
       "      <td>4.98</td>\n",
       "      <td>7.86</td>\n",
       "      <td>2.87</td>\n",
       "      <td>16.79</td>\n",
       "      <td>4.27</td>\n",
       "      <td>0.51</td>\n",
       "      <td>6.04</td>\n",
       "      <td>328.79</td>\n",
       "      <td>6.12</td>\n",
       "    </tr>\n",
       "    <tr>\n",
       "      <th>1990-02-02</th>\n",
       "      <td>5.04</td>\n",
       "      <td>8.00</td>\n",
       "      <td>2.87</td>\n",
       "      <td>16.89</td>\n",
       "      <td>4.37</td>\n",
       "      <td>0.51</td>\n",
       "      <td>6.09</td>\n",
       "      <td>330.92</td>\n",
       "      <td>6.24</td>\n",
       "    </tr>\n",
       "    <tr>\n",
       "      <th>1990-02-05</th>\n",
       "      <td>5.07</td>\n",
       "      <td>8.18</td>\n",
       "      <td>2.87</td>\n",
       "      <td>17.32</td>\n",
       "      <td>4.34</td>\n",
       "      <td>0.51</td>\n",
       "      <td>6.05</td>\n",
       "      <td>331.85</td>\n",
       "      <td>6.25</td>\n",
       "    </tr>\n",
       "    <tr>\n",
       "      <th>1990-02-06</th>\n",
       "      <td>5.01</td>\n",
       "      <td>8.12</td>\n",
       "      <td>2.88</td>\n",
       "      <td>17.56</td>\n",
       "      <td>4.32</td>\n",
       "      <td>0.51</td>\n",
       "      <td>6.15</td>\n",
       "      <td>329.66</td>\n",
       "      <td>6.23</td>\n",
       "    </tr>\n",
       "    <tr>\n",
       "      <th>1990-02-07</th>\n",
       "      <td>5.04</td>\n",
       "      <td>7.77</td>\n",
       "      <td>2.91</td>\n",
       "      <td>17.93</td>\n",
       "      <td>4.38</td>\n",
       "      <td>0.51</td>\n",
       "      <td>6.17</td>\n",
       "      <td>333.75</td>\n",
       "      <td>6.33</td>\n",
       "    </tr>\n",
       "  </tbody>\n",
       "</table>\n",
       "</div>"
      ],
      "text/plain": [
       "              AA  AAPL    GE    IBM   JNJ  MSFT   PEP     SPX   XOM\n",
       "1990-02-01  4.98  7.86  2.87  16.79  4.27  0.51  6.04  328.79  6.12\n",
       "1990-02-02  5.04  8.00  2.87  16.89  4.37  0.51  6.09  330.92  6.24\n",
       "1990-02-05  5.07  8.18  2.87  17.32  4.34  0.51  6.05  331.85  6.25\n",
       "1990-02-06  5.01  8.12  2.88  17.56  4.32  0.51  6.15  329.66  6.23\n",
       "1990-02-07  5.04  7.77  2.91  17.93  4.38  0.51  6.17  333.75  6.33"
      ]
     },
     "execution_count": 3,
     "metadata": {},
     "output_type": "execute_result"
    }
   ],
   "source": [
    "close_px_all = pd.read_csv(\".\\\\pydata-book\\\\examples\\\\stock_px.csv\", parse_dates = True, index_col = 0)\n",
    "close_px_all.head(5)"
   ]
  },
  {
   "cell_type": "code",
   "execution_count": 4,
   "metadata": {},
   "outputs": [
    {
     "data": {
      "text/html": [
       "<div>\n",
       "<style scoped>\n",
       "    .dataframe tbody tr th:only-of-type {\n",
       "        vertical-align: middle;\n",
       "    }\n",
       "\n",
       "    .dataframe tbody tr th {\n",
       "        vertical-align: top;\n",
       "    }\n",
       "\n",
       "    .dataframe thead th {\n",
       "        text-align: right;\n",
       "    }\n",
       "</style>\n",
       "<table border=\"1\" class=\"dataframe\">\n",
       "  <thead>\n",
       "    <tr style=\"text-align: right;\">\n",
       "      <th></th>\n",
       "      <th>AAPL</th>\n",
       "      <th>MSFT</th>\n",
       "      <th>XOM</th>\n",
       "    </tr>\n",
       "  </thead>\n",
       "  <tbody>\n",
       "    <tr>\n",
       "      <th>1990-02-01</th>\n",
       "      <td>7.86</td>\n",
       "      <td>0.51</td>\n",
       "      <td>6.12</td>\n",
       "    </tr>\n",
       "    <tr>\n",
       "      <th>1990-02-02</th>\n",
       "      <td>8.00</td>\n",
       "      <td>0.51</td>\n",
       "      <td>6.24</td>\n",
       "    </tr>\n",
       "    <tr>\n",
       "      <th>1990-02-05</th>\n",
       "      <td>8.18</td>\n",
       "      <td>0.51</td>\n",
       "      <td>6.25</td>\n",
       "    </tr>\n",
       "    <tr>\n",
       "      <th>1990-02-06</th>\n",
       "      <td>8.12</td>\n",
       "      <td>0.51</td>\n",
       "      <td>6.23</td>\n",
       "    </tr>\n",
       "    <tr>\n",
       "      <th>1990-02-07</th>\n",
       "      <td>7.77</td>\n",
       "      <td>0.51</td>\n",
       "      <td>6.33</td>\n",
       "    </tr>\n",
       "  </tbody>\n",
       "</table>\n",
       "</div>"
      ],
      "text/plain": [
       "            AAPL  MSFT   XOM\n",
       "1990-02-01  7.86  0.51  6.12\n",
       "1990-02-02  8.00  0.51  6.24\n",
       "1990-02-05  8.18  0.51  6.25\n",
       "1990-02-06  8.12  0.51  6.23\n",
       "1990-02-07  7.77  0.51  6.33"
      ]
     },
     "execution_count": 4,
     "metadata": {},
     "output_type": "execute_result"
    }
   ],
   "source": [
    "close_px = close_px_all[['AAPL', \"MSFT\", \"XOM\"]]\n",
    "close_px = close_px.resample('B').ffill()\n",
    "close_px.head(5)"
   ]
  },
  {
   "cell_type": "markdown",
   "metadata": {},
   "source": [
    "***When called on a DataFrame all of the time series are drawn on a single subplot with a legend indicating which is which.***"
   ]
  },
  {
   "cell_type": "code",
   "execution_count": 5,
   "metadata": {},
   "outputs": [
    {
     "data": {
      "text/plain": [
       "<matplotlib.axes._subplots.AxesSubplot at 0x180602b0>"
      ]
     },
     "execution_count": 5,
     "metadata": {},
     "output_type": "execute_result"
    },
    {
     "data": {
      "image/png": "[encoded data removed]",
      "text/plain": [
       "<matplotlib.figure.Figure at 0x5799c88>"
      ]
     },
     "metadata": {},
     "output_type": "display_data"
    }
   ],
   "source": [
    "close_px['AAPL'].plot(grid = True)"
   ]
  },
  {
   "cell_type": "code",
   "execution_count": 6,
   "metadata": {},
   "outputs": [
    {
     "data": {
      "text/plain": [
       "<matplotlib.axes._subplots.AxesSubplot at 0x1a21b7b8>"
      ]
     },
     "execution_count": 6,
     "metadata": {},
     "output_type": "execute_result"
    },
    {
     "data": {
      "image/png": "[encoded data removed]",
      "text/plain": [
       "<matplotlib.figure.Figure at 0x1a1abc18>"
      ]
     },
     "metadata": {},
     "output_type": "display_data"
    }
   ],
   "source": [
    "close_px.loc['2009'].plot(grid = True)"
   ]
  },
  {
   "cell_type": "code",
   "execution_count": 6,
   "metadata": {},
   "outputs": [
    {
     "data": {
      "text/plain": [
       "<matplotlib.axes._subplots.AxesSubplot at 0x18172780>"
      ]
     },
     "execution_count": 6,
     "metadata": {},
     "output_type": "execute_result"
    },
    {
     "data": {
      "image/png": "[encoded data removed]",
      "text/plain": [
       "<matplotlib.figure.Figure at 0x180c8978>"
      ]
     },
     "metadata": {},
     "output_type": "display_data"
    }
   ],
   "source": [
    "close_px['AAPL'].loc[\"01-2011\":\"03-2011\"].plot()"
   ]
  },
  {
   "cell_type": "code",
   "execution_count": 15,
   "metadata": {},
   "outputs": [
    {
     "data": {
      "text/plain": [
       "<matplotlib.axes._subplots.AxesSubplot at 0x210c9ba8>"
      ]
     },
     "execution_count": 15,
     "metadata": {},
     "output_type": "execute_result"
    },
    {
     "data": {
      "image/png": "[encoded data removed]",
      "text/plain": [
       "<matplotlib.figure.Figure at 0x1c1acb38>"
      ]
     },
     "metadata": {},
     "output_type": "display_data"
    }
   ],
   "source": [
    "appl_q = close_px['AAPL'].resample(\"Q-DEC\").ffill()\n",
    "appl_q['2009':].plot(grid = True)"
   ]
  },
  {
   "cell_type": "markdown",
   "metadata": {},
   "source": [
    "### Moving Window Functions\n",
    "\n",
    "A common class of array transformations intended for time series operations are statistic and other functions evaluated over a sliding window or with exponentially decaying weights.\n",
    "\n",
    "***Like other statistical functionsm these also automatically exclude missing data.***\n",
    "\n",
    "`rolling_mean` is one of the simplest such functions.\n",
    "\n",
    "It takes a TimeSeries or DataFrame along with a window(expressed as a number of periods)."
   ]
  },
  {
   "cell_type": "code",
   "execution_count": 7,
   "metadata": {},
   "outputs": [
    {
     "data": {
      "text/plain": [
       "<matplotlib.axes._subplots.AxesSubplot at 0x1b279a58>"
      ]
     },
     "execution_count": 7,
     "metadata": {},
     "output_type": "execute_result"
    },
    {
     "data": {
      "image/png": "[encoded data removed]",
      "text/plain": [
       "<matplotlib.figure.Figure at 0x18172d30>"
      ]
     },
     "metadata": {},
     "output_type": "display_data"
    }
   ],
   "source": [
    "close_px[['AAPL']].plot()"
   ]
  },
  {
   "cell_type": "markdown",
   "metadata": {},
   "source": [
    "By default functions like `rolling` require the indicated number of non-NA observations.\n",
    "\n",
    "***This behavior can be changed to account for missing data and, in particular, the fact that you will have fewer than `window` periods of data at the begining of the time series.***"
   ]
  },
  {
   "cell_type": "code",
   "execution_count": 25,
   "metadata": {},
   "outputs": [
    {
     "data": {
      "text/plain": [
       "<matplotlib.axes._subplots.AxesSubplot at 0x24b2e940>"
      ]
     },
     "execution_count": 25,
     "metadata": {},
     "output_type": "execute_result"
    },
    {
     "data": {
      "image/png": "[encoded data removed]",
      "text/plain": [
       "<matplotlib.figure.Figure at 0x24a63588>"
      ]
     },
     "metadata": {},
     "output_type": "display_data"
    }
   ],
   "source": [
    "close_px['AAPL'].rolling(window = 250, center = False).mean().plot()\n",
    "close_px['AAPL'].plot(grid = True, title = 'Apple Price with 250-day MA')"
   ]
  },
  {
   "cell_type": "code",
   "execution_count": 43,
   "metadata": {},
   "outputs": [
    {
     "name": "stdout",
     "output_type": "stream",
     "text": [
      "0.14818906842274157\n"
     ]
    },
    {
     "data": {
      "text/plain": [
       "1990-02-01         NaN\n",
       "1990-02-02         NaN\n",
       "1990-02-05         NaN\n",
       "1990-02-06         NaN\n",
       "1990-02-07         NaN\n",
       "1990-02-08         NaN\n",
       "1990-02-09         NaN\n",
       "1990-02-12         NaN\n",
       "1990-02-13         NaN\n",
       "1990-02-14    0.148189\n",
       "1990-02-15    0.141003\n",
       "Freq: B, Name: AAPL, dtype: float64"
      ]
     },
     "execution_count": 43,
     "metadata": {},
     "output_type": "execute_result"
    }
   ],
   "source": [
    "appl_std250 = close_px['AAPL'].rolling(window = 250, min_periods = 10).std()\n",
    "print(close_px[close_px.index <= '1990-02-14']['AAPL'].std())\n",
    "appl_std250[:11]"
   ]
  },
  {
   "cell_type": "code",
   "execution_count": 45,
   "metadata": {},
   "outputs": [
    {
     "data": {
      "text/plain": [
       "<matplotlib.axes._subplots.AxesSubplot at 0x24eba780>"
      ]
     },
     "execution_count": 45,
     "metadata": {},
     "output_type": "execute_result"
    },
    {
     "data": {
      "image/png": "[encoded data removed]",
      "text/plain": [
       "<matplotlib.figure.Figure at 0x24eb0dd8>"
      ]
     },
     "metadata": {},
     "output_type": "display_data"
    }
   ],
   "source": [
    "appl_std250.plot(grid = True, \n",
    "                 title = 'Apple 250-day daily return standard deviation')"
   ]
  },
  {
   "cell_type": "markdown",
   "metadata": {},
   "source": [
    "To compute an `expanding window mean`, you can see that an expanding window is just a special case where the window is the length of the time series, but only one or more period is required to compute a value. "
   ]
  },
  {
   "cell_type": "code",
   "execution_count": 46,
   "metadata": {},
   "outputs": [],
   "source": [
    "# Define expanding mean in terms of rolling mean\n",
    "expanding_mean = lambda x: rolling_mean(x, len(x), min_periods = 1)"
   ]
  },
  {
   "cell_type": "code",
   "execution_count": 52,
   "metadata": {},
   "outputs": [
    {
     "data": {
      "text/plain": [
       "<matplotlib.axes._subplots.AxesSubplot at 0x264f2668>"
      ]
     },
     "execution_count": 52,
     "metadata": {},
     "output_type": "execute_result"
    },
    {
     "name": "stderr",
     "output_type": "stream",
     "text": [
      "G:\\Program_files2\\Anaconda\\lib\\site-packages\\matplotlib\\scale.py:111: RuntimeWarning: invalid value encountered in less_equal\n",
      "  out[a <= 0] = -1000\n"
     ]
    },
    {
     "data": {
      "image/png": "[encoded data removed]",
      "text/plain": [
       "<matplotlib.figure.Figure at 0x261b9cf8>"
      ]
     },
     "metadata": {},
     "output_type": "display_data"
    }
   ],
   "source": [
    "close_px.rolling(window = 60).mean().plot(logy = True)"
   ]
  },
  {
   "cell_type": "markdown",
   "metadata": {},
   "source": [
    "### Exponentially-weighted functions\n",
    "\n",
    "An alternative to using a static window size with equally-weighted observations is to specify a constant `decay factor` to give more weight to more recent observations.\n",
    "\n",
    "In mathematical terms, if $ma_t$ is the moving average result at time t and x is the time series in question, each value in the reslut is computed as $ma_t = a^* ma_{t-1} + (a-1)*x_t$, where a is the decay factor.\n",
    "\n",
    "***Since an exponentially-weighted statistic place more weight on more recent observations, it `adapts` faster to changes compared with the equal-weighted version.***"
   ]
  },
  {
   "cell_type": "code",
   "execution_count": 66,
   "metadata": {},
   "outputs": [
    {
     "data": {
      "text/plain": [
       "Text(0.5,1,'Exponentially-weight MA')"
      ]
     },
     "execution_count": 66,
     "metadata": {},
     "output_type": "execute_result"
    },
    {
     "data": {
      "image/png": "[encoded data removed]",
      "text/plain": [
       "<matplotlib.figure.Figure at 0x2824e2e8>"
      ]
     },
     "metadata": {},
     "output_type": "display_data"
    }
   ],
   "source": [
    "fig, axes = plt.subplots(nrows=2, ncols=1, sharex=True, \n",
    "                         sharey=True, figsize=(12, 7))\n",
    "aapl_px = close_px.AAPL['2005':'2009']\n",
    "ma60 = aapl_px.rolling(window = 60, min_periods = 50).mean()\n",
    "ewma60 = aapl_px.ewm(span = 60).mean()\n",
    "\n",
    "aapl_px.plot(style = 'k--', ax = axes[0], grid = True)\n",
    "ma60.plot(style = 'k--', ax = axes[0], grid = True)\n",
    "\n",
    "aapl_px.plot(style='k-', ax=axes[1])\n",
    "ewma60.plot(style='k--', ax=axes[1])\n",
    "\n",
    "axes[0].set_title('Simple MA')\n",
    "axes[1].set_title('Exponentially-weight MA')"
   ]
  },
  {
   "cell_type": "markdown",
   "metadata": {},
   "source": [
    "### Binary Moving Window Functions\n",
    "\n",
    "Some statistical operator, like correlation and covariance, need to operate on two time series."
   ]
  },
  {
   "cell_type": "code",
   "execution_count": 74,
   "metadata": {},
   "outputs": [
    {
     "data": {
      "text/html": [
       "<div>\n",
       "<style scoped>\n",
       "    .dataframe tbody tr th:only-of-type {\n",
       "        vertical-align: middle;\n",
       "    }\n",
       "\n",
       "    .dataframe tbody tr th {\n",
       "        vertical-align: top;\n",
       "    }\n",
       "\n",
       "    .dataframe thead th {\n",
       "        text-align: right;\n",
       "    }\n",
       "</style>\n",
       "<table border=\"1\" class=\"dataframe\">\n",
       "  <thead>\n",
       "    <tr style=\"text-align: right;\">\n",
       "      <th></th>\n",
       "      <th>SPX</th>\n",
       "    </tr>\n",
       "  </thead>\n",
       "  <tbody>\n",
       "    <tr>\n",
       "      <th>1990-02-01</th>\n",
       "      <td>328.79</td>\n",
       "    </tr>\n",
       "    <tr>\n",
       "      <th>1990-02-02</th>\n",
       "      <td>330.92</td>\n",
       "    </tr>\n",
       "    <tr>\n",
       "      <th>1990-02-05</th>\n",
       "      <td>331.85</td>\n",
       "    </tr>\n",
       "  </tbody>\n",
       "</table>\n",
       "</div>"
      ],
      "text/plain": [
       "               SPX\n",
       "1990-02-01  328.79\n",
       "1990-02-02  330.92\n",
       "1990-02-05  331.85"
      ]
     },
     "execution_count": 74,
     "metadata": {},
     "output_type": "execute_result"
    }
   ],
   "source": [
    "spx_px = pd.read_csv(\".\\\\pydata-book\\\\examples\\\\spx.csv\", parse_dates = True, index_col = 0)\n",
    "spx_px[:3]"
   ]
  },
  {
   "cell_type": "code",
   "execution_count": 93,
   "metadata": {},
   "outputs": [],
   "source": [
    "spx_rets = spx_px/spx_px.shift(1)-1 # compute percent changes\n",
    "returns = close_px.pct_change()"
   ]
  },
  {
   "cell_type": "code",
   "execution_count": 80,
   "metadata": {},
   "outputs": [
    {
     "data": {
      "text/html": [
       "<div>\n",
       "<style scoped>\n",
       "    .dataframe tbody tr th:only-of-type {\n",
       "        vertical-align: middle;\n",
       "    }\n",
       "\n",
       "    .dataframe tbody tr th {\n",
       "        vertical-align: top;\n",
       "    }\n",
       "\n",
       "    .dataframe thead th {\n",
       "        text-align: right;\n",
       "    }\n",
       "</style>\n",
       "<table border=\"1\" class=\"dataframe\">\n",
       "  <thead>\n",
       "    <tr style=\"text-align: right;\">\n",
       "      <th></th>\n",
       "      <th>SPX</th>\n",
       "    </tr>\n",
       "  </thead>\n",
       "  <tbody>\n",
       "    <tr>\n",
       "      <th>1990-02-01</th>\n",
       "      <td>NaN</td>\n",
       "    </tr>\n",
       "    <tr>\n",
       "      <th>1990-02-02</th>\n",
       "      <td>0.006478</td>\n",
       "    </tr>\n",
       "    <tr>\n",
       "      <th>1990-02-05</th>\n",
       "      <td>0.002810</td>\n",
       "    </tr>\n",
       "  </tbody>\n",
       "</table>\n",
       "</div>"
      ],
      "text/plain": [
       "                 SPX\n",
       "1990-02-01       NaN\n",
       "1990-02-02  0.006478\n",
       "1990-02-05  0.002810"
      ]
     },
     "execution_count": 80,
     "metadata": {},
     "output_type": "execute_result"
    }
   ],
   "source": [
    "spx_px.pct_change()[:3] # the same as the above "
   ]
  },
  {
   "cell_type": "code",
   "execution_count": 131,
   "metadata": {},
   "outputs": [
    {
     "data": {
      "text/plain": [
       "<matplotlib.axes._subplots.AxesSubplot at 0x2e7d7128>"
      ]
     },
     "execution_count": 131,
     "metadata": {},
     "output_type": "execute_result"
    },
    {
     "data": {
      "image/png": "[encoded data removed]",
      "text/plain": [
       "<matplotlib.figure.Figure at 0x2e7cee10>"
      ]
     },
     "metadata": {},
     "output_type": "display_data"
    }
   ],
   "source": [
    "corr = returns['AAPL'].rolling(window = 125, min_periods = 100).corr(spx_rets)\n",
    "corr.plot(grid = True, title = 'Six-month AAPL return correlation to S&P 500')"
   ]
  },
  {
   "cell_type": "code",
   "execution_count": 127,
   "metadata": {},
   "outputs": [],
   "source": [
    "# need to transform to Series\n",
    "spx_ser = pd.Series(spx_rets.values.flatten(), index = spx_rets.index)"
   ]
  },
  {
   "cell_type": "code",
   "execution_count": 132,
   "metadata": {},
   "outputs": [
    {
     "data": {
      "text/plain": [
       "<matplotlib.axes._subplots.AxesSubplot at 0x2bca42e8>"
      ]
     },
     "execution_count": 132,
     "metadata": {},
     "output_type": "execute_result"
    },
    {
     "data": {
      "image/png": "[encoded data removed]",
      "text/plain": [
       "<matplotlib.figure.Figure at 0x2e59dba8>"
      ]
     },
     "metadata": {},
     "output_type": "display_data"
    }
   ],
   "source": [
    "corr = returns.rolling(window = 125, min_periods = 100).corr(spx_ser)\n",
    "corr.plot(grid = True, title = 'Six-month return correlation to S&P 500')"
   ]
  },
  {
   "cell_type": "markdown",
   "metadata": {},
   "source": [
    "### User-Defined Moving Window Functions\n",
    "\n",
    "***The `rolling_apply` function provides a means to apply an array function of your own devising over a moving window.***"
   ]
  },
  {
   "cell_type": "code",
   "execution_count": 134,
   "metadata": {},
   "outputs": [],
   "source": [
    "from scipy.stats import percentileofscore"
   ]
  },
  {
   "cell_type": "code",
   "execution_count": 141,
   "metadata": {},
   "outputs": [],
   "source": [
    "scrore_at_2percent = lambda x: percentileofscore(x, score = 0.02, kind = 'rank')"
   ]
  },
  {
   "cell_type": "code",
   "execution_count": 143,
   "metadata": {},
   "outputs": [
    {
     "data": {
      "text/plain": [
       "<matplotlib.axes._subplots.AxesSubplot at 0x32c7d160>"
      ]
     },
     "execution_count": 143,
     "metadata": {},
     "output_type": "execute_result"
    },
    {
     "data": {
      "image/png": "[encoded data removed]",
      "text/plain": [
       "<matplotlib.figure.Figure at 0x32c88f60>"
      ]
     },
     "metadata": {},
     "output_type": "display_data"
    }
   ],
   "source": [
    "result = returns['AAPL'].rolling(window = 250).apply(scrore_at_2percent)\n",
    "result.plot(grid = True, \n",
    "            title = 'Percentile rank of 2% AAPL return over 1 year window')"
   ]
  },
  {
   "cell_type": "markdown",
   "metadata": {},
   "source": [
    "### Reference\n",
    "\n",
    " - ***[Difference between `asfreq` and `resample`(by stack overflow)](https://stackoverflow.com/questions/18060619/difference-between-asfreq-and-resample)***"
   ]
  }
 ],
 "metadata": {
  "kernelspec": {
   "display_name": "Python 3",
   "language": "python",
   "name": "python3"
  },
  "language_info": {
   "codemirror_mode": {
    "name": "ipython",
    "version": 3
   },
   "file_extension": ".py",
   "mimetype": "text/x-python",
   "name": "python",
   "nbconvert_exporter": "python",
   "pygments_lexer": "ipython3",
   "version": "3.6.4"
  },
  "toc": {
   "base_numbering": 1,
   "nav_menu": {},
   "number_sections": false,
   "sideBar": true,
   "skip_h1_title": false,
   "title_cell": "Table of Contents",
   "title_sidebar": "Contents",
   "toc_cell": false,
   "toc_position": {},
   "toc_section_display": true,
   "toc_window_display": false
  },
  "varInspector": {
   "cols": {
    "lenName": 16,
    "lenType": 16,
    "lenVar": 40
   },
   "kernels_config": {
    "python": {
     "delete_cmd_postfix": "",
     "delete_cmd_prefix": "del ",
     "library": "var_list.py",
     "varRefreshCmd": "print(var_dic_list())"
    },
    "r": {
     "delete_cmd_postfix": ") ",
     "delete_cmd_prefix": "rm(",
     "library": "var_list.r",
     "varRefreshCmd": "cat(var_dic_list()) "
    }
   },
   "types_to_exclude": [
    "module",
    "function",
    "builtin_function_or_method",
    "instance",
    "_Feature"
   ],
   "window_display": false
  }
 },
 "nbformat": 4,
 "nbformat_minor": 2
}
